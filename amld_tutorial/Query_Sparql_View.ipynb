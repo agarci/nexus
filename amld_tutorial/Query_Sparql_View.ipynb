{
  "nbformat": 4,
  "nbformat_minor": 0,
  "metadata": {
    "colab": {
      "name": "Query_Sparql_View.ipynb",
      "version": "0.3.2",
      "provenance": []
    },
    "kernelspec": {
      "display_name": "Python 3",
      "language": "python",
      "name": "python3"
    }
  },
  "cells": [
    {
      "metadata": {
        "id": "kzN-h7FTZW5J",
        "colab_type": "text"
      },
      "cell_type": "markdown",
      "source": [
        "## Querying Nexus knowledge graph using SPARQL\n",
        "\n",
        "The goal of this notebook is to learn the basics of SPARQL. Only the READ part of SPARQL will be exposed.\n"
      ]
    },
    {
      "metadata": {
        "id": "K3SzZ97dZW5M",
        "colab_type": "text"
      },
      "cell_type": "markdown",
      "source": [
        "## Prerequisites\n",
        "\n",
        "This notebook assumes you've created a project within the AWS deployment of Nexus. If not follow the Blue Brain Nexus [Quick Start tutorial](https://bluebrain.github.io/nexus/docs/tutorial/getting-started/quick-start/index.html)."
      ]
    },
    {
      "metadata": {
        "id": "J5iAJ6djZW5N",
        "colab_type": "text"
      },
      "cell_type": "markdown",
      "source": [
        "## Overview\n",
        "\n",
        "You'll work through the following steps:\n",
        "\n",
        "1. Create a sparql wrapper around your project's SparqlView\n",
        "2. Explore and navigate data using the SPARQL query language\n"
      ]
    },
    {
      "metadata": {
        "id": "8bFV_kHxZW5N",
        "colab_type": "text"
      },
      "cell_type": "markdown",
      "source": [
        "## Step 1: Create a sparql wrapper around your project's SparqlView"
      ]
    },
    {
      "metadata": {
        "id": "YvT3WgfOZW5O",
        "colab_type": "text"
      },
      "cell_type": "markdown",
      "source": [
        "Every project in Blue Brain Nexus comes with a SparqlView enabling to navigate the data as a graph and to query it using the W3C SPARQL Language. The address of such SparqlView is https://nexus-sandbox.io/v1/views/tutorialnexus/\\$PROJECTLABEL/graph/sparql for a project withe label \\$PROJECTLABEL. The address of a SparqlView is also called a **SPARQL endpoint**."
      ]
    },
    {
      "metadata": {
        "id": "UM-5gKGjZW5Q",
        "colab_type": "code",
        "colab": {}
      },
      "cell_type": "code",
      "source": [
        "#Configuration for the Nexus deployment\n",
        "nexus_deployment = \"https://nexus-sandbox.io/v1\"\n",
        "\n",
        "token = \"eyJhbGciOiJSUzI1NiIsInR5cCIgOiAiSldUIiwia2lkIiA6ICItSm9GOUNPdnZ0N1VoeWhKTUMtWWxURjZwaVJsWmdRS1JRa3M1c1BNS3h3In0.eyJqdGkiOiIwNzI2NTc5ZS1mOTM3LTRjYTgtOTdlZi0xOWE4MjMzOTU0NGMiLCJleHAiOjE1NDkxODM1NzEsIm5iZiI6MCwiaWF0IjoxNTQ4NTc4NzcxLCJpc3MiOiJodHRwczovL25leHVzLXNhbmRib3guaW8vYXV0aC9yZWFsbXMvZ2l0aHViIiwiYXVkIjoiYWNjb3VudCIsInN1YiI6ImY0ZmY1ZWMyLTJjOGQtNDM1YS1hZWFmLWUyMDU3MTJmMDYzYSIsInR5cCI6IkJlYXJlciIsImF6cCI6Im5leHVzLXdlYiIsIm5vbmNlIjoiMTIzNDU2IiwiYXV0aF90aW1lIjoxNTQ4NTc4NzcxLCJzZXNzaW9uX3N0YXRlIjoiY2M5NGVkMWItOWM1OC00NmE5LWI0OWEtMjhlYzgzOGM4YTI2IiwiYWNyIjoiMSIsInJlYWxtX2FjY2VzcyI6eyJyb2xlcyI6WyJvZmZsaW5lX2FjY2VzcyIsInVtYV9hdXRob3JpemF0aW9uIl19LCJyZXNvdXJjZV9hY2Nlc3MiOnsiYWNjb3VudCI6eyJyb2xlcyI6WyJtYW5hZ2UtYWNjb3VudCIsIm1hbmFnZS1hY2NvdW50LWxpbmtzIiwidmlldy1wcm9maWxlIl19fSwic2NvcGUiOiJvcGVuaWQgcHJvZmlsZSBlbWFpbCIsInN1YiI6ImFnYXJjaSIsImVtYWlsX3ZlcmlmaWVkIjpmYWxzZSwibmFtZSI6IkFtYW5kYSBHYXJjaSIsInByZWZlcnJlZF91c2VybmFtZSI6ImFnYXJjaSIsImdpdmVuX25hbWUiOiJBbWFuZGEiLCJmYW1pbHlfbmFtZSI6IkdhcmNpIiwiZW1haWwiOiJyaWdvdmlydXRhQGdtYWlsLmNvbSJ9.g1V9CP3s9XXNVuAbia1L1qX8jLI4qSimTSMFOVuCX6xrcvUyZ-bPFuPQeLVkkjGQuS973wd538eS9B9J2JgZxsK3Dkzv8yWMD7dOohLnEz-DWqAC8d-Pei_bVlf6PReiTru2ggt6VoeaoO9qXDVYEUKL0T12YsEFsyM687FIUDlwz5cVqo-aVA1rP-HUCZxTzf2peRW476dw6iRSJsDkhx3HhZNsHzk_U9GXCW916-Wc9KyshNQvYcJF5nv4o-U6qgnUqWz72aw13b2W7xD6_WLvl_2FgY35jVC9kOzIdGaI-0oDLmeW5LvgYJYD9skLuup3riY1Dbsqt97sPd3mtA\"\n",
        "\n",
        "org =\"amld\"\n",
        "project =\"recommender\"\n",
        "\n",
        "headers = {}"
      ],
      "execution_count": 0,
      "outputs": []
    },
    {
      "metadata": {
        "id": "u5IimjRnZW5T",
        "colab_type": "code",
        "colab": {
          "base_uri": "https://localhost:8080/",
          "height": 314
        },
        "outputId": "bf5d3159-daca-40bf-cd4d-ea6bbdcc44b5"
      },
      "cell_type": "code",
      "source": [
        "#Let install sparqlwrapper which a python wrapper around sparql client\n",
        "!pip install git+https://github.com/RDFLib/sparqlwrapper"
      ],
      "execution_count": 2,
      "outputs": [
        {
          "output_type": "stream",
          "text": [
            "Collecting git+https://github.com/RDFLib/sparqlwrapper\n",
            "  Cloning https://github.com/RDFLib/sparqlwrapper to /tmp/pip-req-build-1vhbb4_d\n",
            "Collecting rdflib>=4.0 (from SPARQLWrapper==1.8.3.dev0)\n",
            "\u001b[?25l  Downloading https://files.pythonhosted.org/packages/3c/fe/630bacb652680f6d481b9febbb3e2c3869194a1a5fc3401a4a41195a2f8f/rdflib-4.2.2-py3-none-any.whl (344kB)\n",
            "\u001b[K    100% |████████████████████████████████| 348kB 5.4MB/s \n",
            "\u001b[?25hCollecting isodate (from rdflib>=4.0->SPARQLWrapper==1.8.3.dev0)\n",
            "\u001b[?25l  Downloading https://files.pythonhosted.org/packages/9b/9f/b36f7774ff5ea8e428fdcfc4bb332c39ee5b9362ddd3d40d9516a55221b2/isodate-0.6.0-py2.py3-none-any.whl (45kB)\n",
            "\u001b[K    100% |████████████████████████████████| 51kB 8.6MB/s \n",
            "\u001b[?25hRequirement already satisfied: pyparsing in /usr/local/lib/python3.6/dist-packages (from rdflib>=4.0->SPARQLWrapper==1.8.3.dev0) (2.3.1)\n",
            "Requirement already satisfied: six in /usr/local/lib/python3.6/dist-packages (from isodate->rdflib>=4.0->SPARQLWrapper==1.8.3.dev0) (1.11.0)\n",
            "Building wheels for collected packages: SPARQLWrapper\n",
            "  Running setup.py bdist_wheel for SPARQLWrapper ... \u001b[?25l-\b \b\\\b \b|\b \b/\b \bdone\n",
            "\u001b[?25h  Stored in directory: /tmp/pip-ephem-wheel-cache-puxoxzg7/wheels/94/87/ff/bd3f8bccb74168f42b5ba997f9105e18a9cc2699ad9a5525a6\n",
            "Successfully built SPARQLWrapper\n",
            "Installing collected packages: isodate, rdflib, SPARQLWrapper\n",
            "Successfully installed SPARQLWrapper-1.8.3.dev0 isodate-0.6.0 rdflib-4.2.2\n"
          ],
          "name": "stdout"
        }
      ]
    },
    {
      "metadata": {
        "id": "9DadE9HpZW5V",
        "colab_type": "code",
        "colab": {}
      },
      "cell_type": "code",
      "source": [
        "# Utility functions to create sparql wrapper around a sparql endpoint\n",
        "\n",
        "from SPARQLWrapper import SPARQLWrapper, JSON, POST, GET, POSTDIRECTLY, CSV\n",
        "import requests\n",
        "\n",
        "\n",
        "\n",
        "def create_sparql_client(sparql_endpoint, http_query_method=POST, result_format= JSON, token=None):\n",
        "    sparql_client = SPARQLWrapper(sparql_endpoint)\n",
        "    #sparql_client.addCustomHttpHeader(\"Content-Type\", \"application/sparql-query\")\n",
        "    if token:\n",
        "        sparql_client.addCustomHttpHeader(\"Authorization\",\"Bearer {}\".format(token))\n",
        "    sparql_client.setMethod(http_query_method)\n",
        "    sparql_client.setReturnFormat(result_format)\n",
        "    if http_query_method == POST:\n",
        "        sparql_client.setRequestMethod(POSTDIRECTLY)\n",
        "    \n",
        "    return sparql_client"
      ],
      "execution_count": 0,
      "outputs": []
    },
    {
      "metadata": {
        "id": "3vet3qvXZW5Z",
        "colab_type": "code",
        "colab": {}
      },
      "cell_type": "code",
      "source": [
        "# Utility functions\n",
        "import pandas as pd\n",
        "\n",
        "pd.set_option('display.max_colwidth', -1)\n",
        "\n",
        "# Convert SPARQL results into a Pandas data frame\n",
        "def sparql2dataframe(json_sparql_results):\n",
        "    cols = json_sparql_results['head']['vars']\n",
        "    out = []\n",
        "    for row in json_sparql_results['results']['bindings']:\n",
        "        item = []\n",
        "        for c in cols:\n",
        "            item.append(row.get(c, {}).get('value'))\n",
        "        out.append(item)\n",
        "    return pd.DataFrame(out, columns=cols)\n",
        "\n",
        "# Send a query using a sparql wrapper \n",
        "def query_sparql(query, sparql_client):\n",
        "    sparql_client.setQuery(query)\n",
        "    \n",
        "\n",
        "    result_object = sparql_client.query()\n",
        "    if sparql_client.returnFormat == JSON:\n",
        "        return result_object._convertJSON()\n",
        "    return result_object.convert()"
      ],
      "execution_count": 0,
      "outputs": []
    },
    {
      "metadata": {
        "id": "YHzdKDovZW5b",
        "colab_type": "code",
        "colab": {}
      },
      "cell_type": "code",
      "source": [
        "# Let create a sparql wrapper around the project sparql view\n",
        "sparqlview_endpoint = nexus_deployment+\"/views/\"+org+\"/\"+project+\"/graph/sparql\"\n",
        "sparqlview_wrapper = create_sparql_client(sparql_endpoint=sparqlview_endpoint, token=token,http_query_method= POST, result_format=JSON)"
      ],
      "execution_count": 0,
      "outputs": []
    },
    {
      "metadata": {
        "id": "0Yr0nnyLZW5e",
        "colab_type": "text"
      },
      "cell_type": "markdown",
      "source": [
        "## Step 2: Explore and navigate data using the SPARQL query language\n"
      ]
    },
    {
      "metadata": {
        "id": "p0M0LEMLZW5f",
        "colab_type": "text"
      },
      "cell_type": "markdown",
      "source": [
        "Let write our first query."
      ]
    },
    {
      "metadata": {
        "id": "pVPRvaCAZW5f",
        "colab_type": "code",
        "colab": {}
      },
      "cell_type": "code",
      "source": [
        "select_all_query = \"\"\"\n",
        "SELECT ?s ?p ?o\n",
        "WHERE\n",
        "{\n",
        "  ?s ?p ?o\n",
        "}\n",
        "OFFSET 0\n",
        "LIMIT 5\n",
        "\"\"\"\n",
        "\n",
        "nexus_results = query_sparql(select_all_query,sparqlview_wrapper)\n",
        "\n",
        "nexus_df =sparql2dataframe(nexus_results)\n",
        "nexus_df.head()"
      ],
      "execution_count": 0,
      "outputs": []
    },
    {
      "metadata": {
        "id": "q8xN2OXZZW5k",
        "colab_type": "text"
      },
      "cell_type": "markdown",
      "source": [
        "Most SPARQL queries you'll see will have the anotomy above with:\n",
        "* a **SELECT** clause that let you select the variables you want to retrieve\n",
        "* a **WHERE** clause defining a set of constraints that the variables should satisfy to be retrieved\n",
        "* **LIMIT** and **OFFSET** clauses to enable pagination\n",
        "* the constraints are usually graph patterns in the form of **triple** (?s for subject, ?p for property and ?o for ?object)"
      ]
    },
    {
      "metadata": {
        "id": "7D8KYxJYZW5l",
        "colab_type": "text"
      },
      "cell_type": "markdown",
      "source": [
        "Multiple triples can be provided as graph pattern to match but each triple should end with a period. As an example, let retrieve 5 movies (?movie) along with their titles (?title)."
      ]
    },
    {
      "metadata": {
        "id": "_hPAhpbPZW5o",
        "colab_type": "code",
        "colab": {}
      },
      "cell_type": "code",
      "source": [
        "movie_with_title = \"\"\"\n",
        "PREFIX vocab: <https://nexus-sandbox.io/v1/vocabs/tutorialnexus/$PROJECTLABEL/>\n",
        "PREFIX nxv: <https://bluebrain.github.io/nexus/vocabulary/>\n",
        "Select ?movie ?title\n",
        " WHERE  {\n",
        "    ?movie a vocab:Movie.\n",
        "    ?movie vocab:title ?title.\n",
        "} LIMIT 5\n",
        "\"\"\"\n",
        "\n",
        "nexus_results = query_sparql(movie_with_title,sparqlview_wrapper)\n",
        "\n",
        "nexus_df =sparql2dataframe(nexus_results)\n",
        "nexus_df.head()"
      ],
      "execution_count": 0,
      "outputs": []
    },
    {
      "metadata": {
        "id": "Y3DQGlGYZW5r",
        "colab_type": "text"
      },
      "cell_type": "markdown",
      "source": [
        "Note PREFIX clauses. It is way to shorten URIS within a SPARQL query. Without them we would have to use full URI for all properties.\n",
        "\n",
        "The ?movie variable is bound to a URI (the internal Nexus id). Let retrieve the movieId just like in the MovieLens csv files for simplicity."
      ]
    },
    {
      "metadata": {
        "id": "LEbrHnKQZW5s",
        "colab_type": "code",
        "colab": {}
      },
      "cell_type": "code",
      "source": [
        "movie_with_title = \"\"\"\n",
        "PREFIX vocab: <https://nexus-sandbox.io/v1/vocabs/tutorialnexus/$PROJECTLABEL/>\n",
        "PREFIX nxv: <https://bluebrain.github.io/nexus/vocabulary/>\n",
        "Select ?movieId ?title\n",
        " WHERE  {\n",
        "    \n",
        "    # Select movies\n",
        "    ?movie a vocab:Movie.\n",
        "\n",
        "    # Select their movieId value\n",
        "    ?movie vocab:movieId ?movieId.\n",
        "    \n",
        "    #\n",
        "    ?movie vocab:title ?title.\n",
        "    \n",
        "} LIMIT 5\n",
        "\"\"\"\n",
        "\n",
        "nexus_results = query_sparql(movie_with_title,sparqlview_wrapper)\n",
        "\n",
        "nexus_df =sparql2dataframe(nexus_results)\n",
        "nexus_df.head()"
      ],
      "execution_count": 0,
      "outputs": []
    },
    {
      "metadata": {
        "id": "b4SnArK7ZW5u",
        "colab_type": "text"
      },
      "cell_type": "markdown",
      "source": [
        "In the above query movies are things (or entities) of type vocab:Movie. \n",
        "This is a typical instance query where entities are filtered by their type(s) and then some of their properties are retrieved (here ?title). \n",
        "\n",
        "Let retrieve everything that is linked (outgoing) to the movies. \n",
        "The * character in the SELECT clause indicates to retreve all variables: ?movie, ?p, ?o"
      ]
    },
    {
      "metadata": {
        "id": "J7I2paaJZW5v",
        "colab_type": "code",
        "colab": {}
      },
      "cell_type": "code",
      "source": [
        "movie_with_properties = \"\"\"\n",
        "PREFIX vocab: <https://nexus-sandbox.io/v1/vocabs/tutorialnexus/$PROJECTLABEL/>\n",
        "PREFIX nxv: <https://bluebrain.github.io/nexus/vocabulary/>\n",
        "Select *\n",
        " WHERE  {\n",
        "    ?movie a vocab:Movie.\n",
        "    ?movie ?p ?o.\n",
        "} LIMIT 20\n",
        "\"\"\"\n",
        "\n",
        "nexus_results = query_sparql(movie_with_properties,sparqlview_wrapper)\n",
        "\n",
        "nexus_df =sparql2dataframe(nexus_results)\n",
        "nexus_df.head(20)"
      ],
      "execution_count": 0,
      "outputs": []
    },
    {
      "metadata": {
        "id": "kr3caO1nZW5y",
        "colab_type": "text"
      },
      "cell_type": "markdown",
      "source": [
        "As a little exercise, write a query retrieving incoming entities to movies. You can copy past the query above and modify it.\n",
        "\n",
        "Hints: ?s ?p ?o can be read as: ?o is linked to ?s with an outgoing link.\n",
        "\n",
        "Do you have results ?"
      ]
    },
    {
      "metadata": {
        "id": "2Wn1fhxvZW5y",
        "colab_type": "code",
        "colab": {}
      },
      "cell_type": "code",
      "source": [
        "#Your query here\n"
      ],
      "execution_count": 0,
      "outputs": []
    },
    {
      "metadata": {
        "id": "rG8jylf9ZW50",
        "colab_type": "text"
      },
      "cell_type": "markdown",
      "source": [
        "Let retrieve the movie ratings"
      ]
    },
    {
      "metadata": {
        "id": "PBYJ7fBdZW51",
        "colab_type": "code",
        "colab": {}
      },
      "cell_type": "code",
      "source": [
        "movie_with_properties = \"\"\"\n",
        "PREFIX vocab: <https://nexus-sandbox.io/v1/vocabs/tutorialnexus/$PROJECTLABEL/>\n",
        "PREFIX nxv: <https://bluebrain.github.io/nexus/vocabulary/>\n",
        "Select ?userId ?movieId ?rating ?timestamp\n",
        " WHERE  {\n",
        "    ?movie a vocab:Movie.\n",
        "    ?movie vocab:movieId ?movieId.\n",
        "    \n",
        "    \n",
        "    ?ratingNode vocab:movieId ?ratingmovieId.\n",
        "    ?ratingNode vocab:rating ?rating.\n",
        "    ?ratingNode vocab:userId ?userId.\n",
        "    ?ratingNode vocab:timestamp ?timestamp.\n",
        "    \n",
        "    # Somehow pandas is movieId as double for rating \n",
        "    FILTER(xsd:integer(?ratingmovieId) = ?movieId)\n",
        "    \n",
        "} LIMIT 20\n",
        "\"\"\"\n",
        "\n",
        "nexus_results = query_sparql(movie_with_properties,sparqlview_wrapper)\n",
        "\n",
        "nexus_df =sparql2dataframe(nexus_results)\n",
        "nexus_df.head(20)"
      ],
      "execution_count": 0,
      "outputs": []
    },
    {
      "metadata": {
        "id": "zzkqrQdmZW54",
        "colab_type": "text"
      },
      "cell_type": "markdown",
      "source": [
        "As a little exercise, write a query retrieving the movie tags along with the user id and timestamp. You can copy and past the query above and modify it.\n"
      ]
    },
    {
      "metadata": {
        "id": "uqWFSGBbZW54",
        "colab_type": "code",
        "colab": {}
      },
      "cell_type": "code",
      "source": [
        "#Your query here\n",
        "\n"
      ],
      "execution_count": 0,
      "outputs": []
    },
    {
      "metadata": {
        "id": "QOX8FN6HZW58",
        "colab_type": "text"
      },
      "cell_type": "markdown",
      "source": [
        "### Aggregate queries"
      ]
    },
    {
      "metadata": {
        "id": "a3MuwU16ZW59",
        "colab_type": "text"
      },
      "cell_type": "markdown",
      "source": [
        "[Aggregates](https://www.w3.org/TR/sparql11-query/#aggregates) apply some operations over a group of solutions.\n",
        "Available aggregates are: COUNT, SUM, MIN, MAX, AVG, GROUP_CONCAT, and SAMPLE.\n",
        "\n",
        "We will not see them all but we'll look at some examples."
      ]
    },
    {
      "metadata": {
        "id": "dQADyyzRZW59",
        "colab_type": "text"
      },
      "cell_type": "markdown",
      "source": [
        "The next query will compute the average rating score for 'funny' movies and retrieve 5 of them. "
      ]
    },
    {
      "metadata": {
        "id": "T0srjjDxZW5_",
        "colab_type": "code",
        "colab": {
          "base_uri": "https://localhost:8080/",
          "height": 198
        },
        "outputId": "e4fe7401-ebdf-465d-9639-9fd600e5978c"
      },
      "cell_type": "code",
      "source": [
        "movie_avg_ratings = \"\"\"\n",
        "PREFIX vocab: <https://nexus-sandbox.io/v1/vocabs/amld/recommender/>\n",
        "PREFIX nxv: <https://bluebrain.github.io/nexus/vocabulary/>\n",
        "\n",
        "Select  DISTINCT ?movieId (AVG(?rating) AS ?score) (count(?rating) AS ?total_ratings)\n",
        " WHERE  {\n",
        "    # Select movies\n",
        "    ?movie a vocab:Movie.\n",
        "\n",
        "    # Select their movieId value\n",
        "    ?movie vocab:movieId ?movieId.\n",
        "\n",
        "    # Keep movies with 'funny' tags\n",
        "    ?tagnode vocab:movieId ?movieId.\n",
        "    ?tagnode vocab:tag \"funny\".\n",
        "\n",
        "    # Keep movies with ratings\n",
        "    ?ratingNode vocab:movieId ?ratingmovieId.\n",
        "    ?ratingNode vocab:rating ?rating.\n",
        "\n",
        "    \n",
        "    FILTER(xsd:integer(?ratingmovieId) = ?movieId)\n",
        "\n",
        "}\n",
        "GROUP BY ?movieId\n",
        "LIMIT 5\n",
        "\"\"\"\n",
        "\n",
        "nexus_results = query_sparql(movie_avg_ratings,sparqlview_wrapper)\n",
        "\n",
        "nexus_df =sparql2dataframe(nexus_results)\n",
        "nexus_df.head(20)\n",
        "\n"
      ],
      "execution_count": 24,
      "outputs": [
        {
          "output_type": "execute_result",
          "data": {
            "text/html": [
              "<div>\n",
              "<style scoped>\n",
              "    .dataframe tbody tr th:only-of-type {\n",
              "        vertical-align: middle;\n",
              "    }\n",
              "\n",
              "    .dataframe tbody tr th {\n",
              "        vertical-align: top;\n",
              "    }\n",
              "\n",
              "    .dataframe thead th {\n",
              "        text-align: right;\n",
              "    }\n",
              "</style>\n",
              "<table border=\"1\" class=\"dataframe\">\n",
              "  <thead>\n",
              "    <tr style=\"text-align: right;\">\n",
              "      <th></th>\n",
              "      <th>movieId</th>\n",
              "      <th>score</th>\n",
              "      <th>total_ratings</th>\n",
              "      <th>total_users</th>\n",
              "    </tr>\n",
              "  </thead>\n",
              "  <tbody>\n",
              "    <tr>\n",
              "      <th>0</th>\n",
              "      <td>68848</td>\n",
              "      <td>4.333333333333333</td>\n",
              "      <td>3</td>\n",
              "      <td>0</td>\n",
              "    </tr>\n",
              "    <tr>\n",
              "      <th>1</th>\n",
              "      <td>134170</td>\n",
              "      <td>3.5</td>\n",
              "      <td>5</td>\n",
              "      <td>0</td>\n",
              "    </tr>\n",
              "    <tr>\n",
              "      <th>2</th>\n",
              "      <td>126548</td>\n",
              "      <td>3.25</td>\n",
              "      <td>6</td>\n",
              "      <td>0</td>\n",
              "    </tr>\n",
              "    <tr>\n",
              "      <th>3</th>\n",
              "      <td>167746</td>\n",
              "      <td>4.166666666666667</td>\n",
              "      <td>6</td>\n",
              "      <td>0</td>\n",
              "    </tr>\n",
              "    <tr>\n",
              "      <th>4</th>\n",
              "      <td>106766</td>\n",
              "      <td>3.642857142857143</td>\n",
              "      <td>7</td>\n",
              "      <td>0</td>\n",
              "    </tr>\n",
              "  </tbody>\n",
              "</table>\n",
              "</div>"
            ],
            "text/plain": [
              "  movieId              score total_ratings total_users\n",
              "0  68848   4.333333333333333  3             0         \n",
              "1  134170  3.5                5             0         \n",
              "2  126548  3.25               6             0         \n",
              "3  167746  4.166666666666667  6             0         \n",
              "4  106766  3.642857142857143  7             0         "
            ]
          },
          "metadata": {
            "tags": []
          },
          "execution_count": 24
        }
      ]
    },
    {
      "metadata": {
        "id": "r0RrdMS3bwFT",
        "colab_type": "code",
        "colab": {}
      },
      "cell_type": "code",
      "source": [
        "movie_avg_ratings = \"\"\"\n",
        "PREFIX vocab: <https://nexus-sandbox.io/v1/vocabs/amld/recommender/>\n",
        "PREFIX nxv: <https://bluebrain.github.io/nexus/vocabulary/>\n",
        "\n",
        "Select  DISTINCT ?movieId (AVG(?rating) AS ?score)\n",
        " WHERE  {\n",
        "    # Select movies\n",
        "    ?movie a vocab:Movie.\n",
        "\n",
        "    # Select their movieId value\n",
        "    ?movie vocab:movieId ?movieId.\n",
        "\n",
        "    # Keep movies with 'funny' tags\n",
        "    ?tagnode vocab:movieId ?movieId.\n",
        "    ?tagnode vocab:tag \"funny\".\n",
        "\n",
        "    # Keep movies with ratings\n",
        "    ?ratingNode vocab:movieId ?movidId.\n",
        "    ?ratingNode vocab:rating ?rating.\n",
        "\n",
        "}\n",
        "GROUP BY ?movieId\n",
        "LIMIT 5\n",
        "\"\"\"\n",
        "\n",
        "nexus_results = query_sparql(movie_avg_ratings,sparqlview_wrapper)\n",
        "\n",
        "nexus_df =sparql2dataframe(nexus_results)\n",
        "nexus_df.head(20)\n",
        "\n"
      ],
      "execution_count": 0,
      "outputs": []
    },
    {
      "metadata": {
        "id": "NZM6qZIlZW6B",
        "colab_type": "text"
      },
      "cell_type": "markdown",
      "source": [
        "The next query will retrieve movies along with users that tagged them separated by a comma"
      ]
    },
    {
      "metadata": {
        "id": "9FljcJVtZW6D",
        "colab_type": "code",
        "colab": {
          "base_uri": "https://localhost:8080/",
          "height": 348
        },
        "outputId": "b083a43e-4090-4463-cd65-90a95f84abc0"
      },
      "cell_type": "code",
      "source": [
        "# Group Concat\n",
        "\n",
        "movie_avg_ratings = \"\"\"\n",
        "PREFIX vocab: <https://nexus-sandbox.io/v1/vocabs/amld/recommender/>\n",
        "PREFIX nxv: <https://bluebrain.github.io/nexus/vocabulary/>\n",
        "\n",
        "Select ?movieId (group_concat(DISTINCT ?userId;separator=\",\") as ?users)\n",
        " WHERE  {\n",
        "    # Select movies\n",
        "    ?movie a vocab:Movie.\n",
        "\n",
        "    # Select their movieId value\n",
        "    ?movie vocab:movieId ?movieId.\n",
        "\n",
        "    ?tagnode vocab:movieId ?movieId.\n",
        "    ?tagnode vocab:userId ?userId.\n",
        "\n",
        "  \n",
        "}\n",
        "GROUP BY ?movieId\n",
        "LIMIT 10\n",
        "\"\"\"\n",
        "\n",
        "nexus_results = query_sparql(movie_avg_ratings,sparqlview_wrapper)\n",
        "\n",
        "nexus_df =sparql2dataframe(nexus_results)\n",
        "nexus_df.head(20)"
      ],
      "execution_count": 12,
      "outputs": [
        {
          "output_type": "execute_result",
          "data": {
            "text/html": [
              "<div>\n",
              "<style scoped>\n",
              "    .dataframe tbody tr th:only-of-type {\n",
              "        vertical-align: middle;\n",
              "    }\n",
              "\n",
              "    .dataframe tbody tr th {\n",
              "        vertical-align: top;\n",
              "    }\n",
              "\n",
              "    .dataframe thead th {\n",
              "        text-align: right;\n",
              "    }\n",
              "</style>\n",
              "<table border=\"1\" class=\"dataframe\">\n",
              "  <thead>\n",
              "    <tr style=\"text-align: right;\">\n",
              "      <th></th>\n",
              "      <th>movieId</th>\n",
              "      <th>users</th>\n",
              "    </tr>\n",
              "  </thead>\n",
              "  <tbody>\n",
              "    <tr>\n",
              "      <th>0</th>\n",
              "      <td>2863</td>\n",
              "      <td>474</td>\n",
              "    </tr>\n",
              "    <tr>\n",
              "      <th>1</th>\n",
              "      <td>2078</td>\n",
              "      <td>474</td>\n",
              "    </tr>\n",
              "    <tr>\n",
              "      <th>2</th>\n",
              "      <td>2076</td>\n",
              "      <td>474</td>\n",
              "    </tr>\n",
              "    <tr>\n",
              "      <th>3</th>\n",
              "      <td>2662</td>\n",
              "      <td>573</td>\n",
              "    </tr>\n",
              "    <tr>\n",
              "      <th>4</th>\n",
              "      <td>11</td>\n",
              "      <td>474</td>\n",
              "    </tr>\n",
              "    <tr>\n",
              "      <th>5</th>\n",
              "      <td>14</td>\n",
              "      <td>474</td>\n",
              "    </tr>\n",
              "    <tr>\n",
              "      <th>6</th>\n",
              "      <td>1643</td>\n",
              "      <td>474</td>\n",
              "    </tr>\n",
              "    <tr>\n",
              "      <th>7</th>\n",
              "      <td>1900</td>\n",
              "      <td>474</td>\n",
              "    </tr>\n",
              "    <tr>\n",
              "      <th>8</th>\n",
              "      <td>1902</td>\n",
              "      <td>474</td>\n",
              "    </tr>\n",
              "    <tr>\n",
              "      <th>9</th>\n",
              "      <td>356</td>\n",
              "      <td>474,533,567</td>\n",
              "    </tr>\n",
              "  </tbody>\n",
              "</table>\n",
              "</div>"
            ],
            "text/plain": [
              "  movieId        users\n",
              "0  2863    474        \n",
              "1  2078    474        \n",
              "2  2076    474        \n",
              "3  2662    573        \n",
              "4  11      474        \n",
              "5  14      474        \n",
              "6  1643    474        \n",
              "7  1900    474        \n",
              "8  1902    474        \n",
              "9  356     474,533,567"
            ]
          },
          "metadata": {
            "tags": []
          },
          "execution_count": 12
        }
      ]
    },
    {
      "metadata": {
        "id": "FwQ8nYvAbqxe",
        "colab_type": "code",
        "colab": {}
      },
      "cell_type": "code",
      "source": [
        "movie_avg_ratings = \"\"\"\n",
        "PREFIX vocab: <https://nexus-sandbox.io/v1/vocabs/amld/recommender/>\n",
        "PREFIX nxv: <https://bluebrain.github.io/nexus/vocabulary/>\n",
        "\n",
        "Select ?movieId (group_concat(DISTINCT ?userId;separator=\",\") as ?users)\n",
        " WHERE  {\n",
        "    # Select movies\n",
        "    ?movie a vocab:Movie.\n",
        "\n",
        "    # Select their movieId value\n",
        "    ?movie vocab:movieId ?movieId.\n",
        "\n",
        "    ?tagnode vocab:movieId ?movieId.\n",
        "    ?tagnode vocab:userId ?userId.\n",
        "\n",
        "  \n",
        "}\n",
        "GROUP BY ?movieId\n",
        "LIMIT 10\n",
        "\"\"\"\n",
        "\n",
        "nexus_results = query_sparql(movie_avg_ratings,sparqlview_wrapper)\n",
        "\n",
        "nexus_df =sparql2dataframe(nexus_results)\n",
        "nexus_df.head(20)"
      ],
      "execution_count": 0,
      "outputs": []
    },
    {
      "metadata": {
        "id": "k10l8EFfZW6G",
        "colab_type": "code",
        "colab": {}
      },
      "cell_type": "code",
      "source": [
        ""
      ],
      "execution_count": 0,
      "outputs": []
    }
  ]
}