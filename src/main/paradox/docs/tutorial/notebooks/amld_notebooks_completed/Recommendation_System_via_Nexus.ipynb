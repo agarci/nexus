{
  "nbformat": 4,
  "nbformat_minor": 0,
  "metadata": {
    "colab": {
      "name": "Recommendation System via Nexus.ipynb",
      "version": "0.3.2",
      "provenance": []
    },
    "kernelspec": {
      "display_name": "Python 3",
      "language": "python",
      "name": "python3"
    }
  },
  "cells": [
    {
      "metadata": {
        "id": "H6pOHdu2eJxc",
        "colab_type": "text"
      },
      "cell_type": "markdown",
      "source": [
        "# Creating a Data Pipeline for a Recommender System using Blue Brain Nexus \n",
        "\n",
        "In this notebook, you will create a recommendation engine using Blue Brain Nexus. Using some movie rating data,\n",
        "you will train a collaborative filtering model for movie recommendation using a given matrix factorization class and export the trained model to Elasticsearch. Once exported, \n",
        "you can test your recommendations by querying Elasticsearch and displaying the results.\n",
        "\n",
        "![Movie Recommendation](https://github.com/BlueBrain/nexus/blob/master/src/main/paradox/docs/tutorial/notebooks/assets/recommendation.png?raw=1)\n",
        "\n",
        "### _Prerequisites_\n",
        "\n",
        "The notebook assumes you have installed [Nexus SDK](https://github.com/BlueBrain/nexus-python-sdk).\n",
        "\n",
        "\n",
        "## Overview\n",
        "\n",
        "You will work through the following steps\n",
        "\n",
        "1. Set up the Nexus environment in Python \n",
        "2. Pull the data from Nexus\n",
        "3. Prepare the data\n",
        "4. Train the recommendation model\n",
        "5. Push the model results to Nexus\n",
        "6. Show recommendations by querying Nexus"
      ]
    },
    {
      "metadata": {
        "id": "i2ShD0raeJxe",
        "colab_type": "text"
      },
      "cell_type": "markdown",
      "source": [
        "## Step 1: Set up Nexus environment\n",
        "\n",
        "Blue Brain Nexus provides a Python SDK to facilitate the use of Nexus, including functionalities of authentication and data access, etc. The SDK is available at https://github.com/BlueBrain/nexus-python-sdk.\n",
        "\n",
        "Here, we assume you have installed the Nexus python SDK. Otherwise, you could pip install the sdk. Then, we will set up the Nexus environment in this notebook with a provided access token. "
      ]
    },
    {
      "metadata": {
        "id": "tgsGXOZheOWI",
        "colab_type": "text"
      },
      "cell_type": "markdown",
      "source": [
        ""
      ]
    },
    {
      "metadata": {
        "id": "GQOmoklueJxf",
        "colab_type": "code",
        "colab": {
          "base_uri": "https://localhost:8080/",
          "height": 262
        },
        "outputId": "eff3009a-379c-4836-faf1-a14d32972e49"
      },
      "cell_type": "code",
      "source": [
        "!pip install git+https://github.com/BlueBrain/nexus-python-sdk"
      ],
      "execution_count": 1,
      "outputs": [
        {
          "output_type": "stream",
          "text": [
            "Collecting git+https://github.com/BlueBrain/nexus-python-sdk\n",
            "  Cloning https://github.com/BlueBrain/nexus-python-sdk to /tmp/pip-req-build-8blnbroc\n",
            "Requirement already satisfied: requests in /usr/local/lib/python3.6/dist-packages (from nexus-sdk==0.1.0) (2.18.4)\n",
            "Requirement already satisfied: idna<2.7,>=2.5 in /usr/local/lib/python3.6/dist-packages (from requests->nexus-sdk==0.1.0) (2.6)\n",
            "Requirement already satisfied: urllib3<1.23,>=1.21.1 in /usr/local/lib/python3.6/dist-packages (from requests->nexus-sdk==0.1.0) (1.22)\n",
            "Requirement already satisfied: chardet<3.1.0,>=3.0.2 in /usr/local/lib/python3.6/dist-packages (from requests->nexus-sdk==0.1.0) (3.0.4)\n",
            "Requirement already satisfied: certifi>=2017.4.17 in /usr/local/lib/python3.6/dist-packages (from requests->nexus-sdk==0.1.0) (2018.11.29)\n",
            "Building wheels for collected packages: nexus-sdk\n",
            "  Running setup.py bdist_wheel for nexus-sdk ... \u001b[?25l-\b \b\\\b \bdone\n",
            "\u001b[?25h  Stored in directory: /tmp/pip-ephem-wheel-cache-93axd9is/wheels/62/9b/50/ee8d8837a7be59b38d3e522bd733adda2a86db7c1879b77ae4\n",
            "Successfully built nexus-sdk\n",
            "Installing collected packages: nexus-sdk\n",
            "Successfully installed nexus-sdk-0.1.0\n"
          ],
          "name": "stdout"
        }
      ]
    },
    {
      "metadata": {
        "id": "W9FsPyKweJxj",
        "colab_type": "text"
      },
      "cell_type": "markdown",
      "source": [
        "Before using the SDK to ingest and access data in Nexus, you should set up your SDK environment.\n",
        "\n",
        "First, please get your access token through Github.\n",
        "\n",
        "Then, set the access token and your Nexus deployment endpoint in your SDK configuration."
      ]
    },
    {
      "metadata": {
        "id": "EJnUHrGieJxk",
        "colab_type": "code",
        "colab": {}
      },
      "cell_type": "code",
      "source": [
        "import nexussdk as nexus\n",
        "\n",
        "deployment = 'https://nexus-sandbox.io/v1'\n",
        "token = 'eyJhbGciOiJSUzI1NiIsInR5cCIgOiAiSldUIiwia2lkIiA6ICItSm9GOUNPdnZ0N1VoeWhKTUMtWWxURjZwaVJsWmdRS1JRa3M1c1BNS3h3In0.eyJqdGkiOiIwNzI2NTc5ZS1mOTM3LTRjYTgtOTdlZi0xOWE4MjMzOTU0NGMiLCJleHAiOjE1NDkxODM1NzEsIm5iZiI6MCwiaWF0IjoxNTQ4NTc4NzcxLCJpc3MiOiJodHRwczovL25leHVzLXNhbmRib3guaW8vYXV0aC9yZWFsbXMvZ2l0aHViIiwiYXVkIjoiYWNjb3VudCIsInN1YiI6ImY0ZmY1ZWMyLTJjOGQtNDM1YS1hZWFmLWUyMDU3MTJmMDYzYSIsInR5cCI6IkJlYXJlciIsImF6cCI6Im5leHVzLXdlYiIsIm5vbmNlIjoiMTIzNDU2IiwiYXV0aF90aW1lIjoxNTQ4NTc4NzcxLCJzZXNzaW9uX3N0YXRlIjoiY2M5NGVkMWItOWM1OC00NmE5LWI0OWEtMjhlYzgzOGM4YTI2IiwiYWNyIjoiMSIsInJlYWxtX2FjY2VzcyI6eyJyb2xlcyI6WyJvZmZsaW5lX2FjY2VzcyIsInVtYV9hdXRob3JpemF0aW9uIl19LCJyZXNvdXJjZV9hY2Nlc3MiOnsiYWNjb3VudCI6eyJyb2xlcyI6WyJtYW5hZ2UtYWNjb3VudCIsIm1hbmFnZS1hY2NvdW50LWxpbmtzIiwidmlldy1wcm9maWxlIl19fSwic2NvcGUiOiJvcGVuaWQgcHJvZmlsZSBlbWFpbCIsInN1YiI6ImFnYXJjaSIsImVtYWlsX3ZlcmlmaWVkIjpmYWxzZSwibmFtZSI6IkFtYW5kYSBHYXJjaSIsInByZWZlcnJlZF91c2VybmFtZSI6ImFnYXJjaSIsImdpdmVuX25hbWUiOiJBbWFuZGEiLCJmYW1pbHlfbmFtZSI6IkdhcmNpIiwiZW1haWwiOiJyaWdvdmlydXRhQGdtYWlsLmNvbSJ9.g1V9CP3s9XXNVuAbia1L1qX8jLI4qSimTSMFOVuCX6xrcvUyZ-bPFuPQeLVkkjGQuS973wd538eS9B9J2JgZxsK3Dkzv8yWMD7dOohLnEz-DWqAC8d-Pei_bVlf6PReiTru2ggt6VoeaoO9qXDVYEUKL0T12YsEFsyM687FIUDlwz5cVqo-aVA1rP-HUCZxTzf2peRW476dw6iRSJsDkhx3HhZNsHzk_U9GXCW916-Wc9KyshNQvYcJF5nv4o-U6qgnUqWz72aw13b2W7xD6_WLvl_2FgY35jVC9kOzIdGaI-0oDLmeW5LvgYJYD9skLuup3riY1Dbsqt97sPd3mtA'\n",
        "\n",
        "nexus.config.set_environment(deployment)\n",
        "nexus.config.set_token(token)"
      ],
      "execution_count": 0,
      "outputs": []
    },
    {
      "metadata": {
        "id": "tbioxIYFeJxn",
        "colab_type": "text"
      },
      "cell_type": "markdown",
      "source": [
        "Try listing the organization to see if the access is okay"
      ]
    },
    {
      "metadata": {
        "id": "fd5fnYgheJxo",
        "colab_type": "code",
        "colab": {
          "base_uri": "https://localhost:8080/",
          "height": 1278
        },
        "outputId": "47b03c41-1a23-4351-f984-09f732218e3a"
      },
      "cell_type": "code",
      "source": [
        "nexus.organizations.list()"
      ],
      "execution_count": 3,
      "outputs": [
        {
          "output_type": "execute_result",
          "data": {
            "text/plain": [
              "OrderedDict([('@context',\n",
              "              ['https://bluebrain.github.io/nexus/contexts/admin.json',\n",
              "               'https://bluebrain.github.io/nexus/contexts/resource.json',\n",
              "               'https://bluebrain.github.io/nexus/contexts/search.json']),\n",
              "             ('_total', 5),\n",
              "             ('_results',\n",
              "              [OrderedDict([('@id', 'https://nexus-sandbox.io/v1/orgs/amld'),\n",
              "                            ('@type', 'Organization'),\n",
              "                            ('description', 'AMLD Workshop'),\n",
              "                            ('_uuid', '2b8df7c8-238f-476d-8a07-5fbb6c92fa3d'),\n",
              "                            ('_label', 'amld'),\n",
              "                            ('_rev', 1),\n",
              "                            ('_deprecated', False),\n",
              "                            ('_createdAt', '2019-01-26T20:38:48.311Z'),\n",
              "                            ('_createdBy',\n",
              "                             'https://nexus-sandbox.io/v1/realms/github/users/bogdanromanx'),\n",
              "                            ('_updatedAt', '2019-01-26T20:38:48.311Z'),\n",
              "                            ('_updatedBy',\n",
              "                             'https://nexus-sandbox.io/v1/realms/github/users/bogdanromanx')]),\n",
              "               OrderedDict([('@id', 'https://nexus-sandbox.io/v1/orgs/astra'),\n",
              "                            ('@type', 'Organization'),\n",
              "                            ('description', ''),\n",
              "                            ('_uuid', '6e9a5941-670e-4d4e-a09e-7883f54f7449'),\n",
              "                            ('_label', 'astra'),\n",
              "                            ('_rev', 1),\n",
              "                            ('_deprecated', False),\n",
              "                            ('_createdAt', '2019-01-27T08:52:46.724Z'),\n",
              "                            ('_createdBy',\n",
              "                             'https://nexus-sandbox.io/v1/realms/github/users/astrastefania'),\n",
              "                            ('_updatedAt', '2019-01-27T08:52:46.724Z'),\n",
              "                            ('_updatedBy',\n",
              "                             'https://nexus-sandbox.io/v1/realms/github/users/astrastefania')]),\n",
              "               OrderedDict([('@id', 'https://nexus-sandbox.io/v1/orgs/broman'),\n",
              "                            ('@type', 'Organization'),\n",
              "                            ('description', \"Bogdan Roman's Organization\"),\n",
              "                            ('_uuid', 'a8266f8b-17c4-4f25-a5b3-340e4cfdc492'),\n",
              "                            ('_label', 'broman'),\n",
              "                            ('_rev', 1),\n",
              "                            ('_deprecated', False),\n",
              "                            ('_createdAt', '2019-01-26T20:49:10.477Z'),\n",
              "                            ('_createdBy',\n",
              "                             'https://nexus-sandbox.io/v1/realms/github/users/bogdanromanx'),\n",
              "                            ('_updatedAt', '2019-01-26T20:49:10.477Z'),\n",
              "                            ('_updatedBy',\n",
              "                             'https://nexus-sandbox.io/v1/realms/github/users/bogdanromanx')]),\n",
              "               OrderedDict([('@id',\n",
              "                             'https://nexus-sandbox.io/v1/orgs/huanxiang'),\n",
              "                            ('@type', 'Organization'),\n",
              "                            ('description', ''),\n",
              "                            ('_uuid', '083e7907-92e4-483e-bf90-771fbf43b56c'),\n",
              "                            ('_label', 'huanxiang'),\n",
              "                            ('_rev', 1),\n",
              "                            ('_deprecated', False),\n",
              "                            ('_createdAt', '2019-01-27T07:55:09.247Z'),\n",
              "                            ('_createdBy',\n",
              "                             'https://nexus-sandbox.io/v1/realms/github/users/huanxiang'),\n",
              "                            ('_updatedAt', '2019-01-27T07:55:09.247Z'),\n",
              "                            ('_updatedBy',\n",
              "                             'https://nexus-sandbox.io/v1/realms/github/users/huanxiang')]),\n",
              "               OrderedDict([('@id',\n",
              "                             'https://nexus-sandbox.io/v1/orgs/tutorialnexus'),\n",
              "                            ('@type', 'Organization'),\n",
              "                            ('description', 'Nexus Tutorial'),\n",
              "                            ('_uuid', '136e78e0-5d27-4d4a-baa1-c75ebc711b20'),\n",
              "                            ('_label', 'tutorialnexus'),\n",
              "                            ('_rev', 2),\n",
              "                            ('_deprecated', False),\n",
              "                            ('_createdAt', '2019-01-26T21:07:32.259Z'),\n",
              "                            ('_createdBy',\n",
              "                             'https://nexus-sandbox.io/v1/realms/github/users/huanxiang'),\n",
              "                            ('_updatedAt', '2019-01-26T21:09:21.315Z'),\n",
              "                            ('_updatedBy',\n",
              "                             'https://nexus-sandbox.io/v1/realms/github/users/bogdanromanx')])])])"
            ]
          },
          "metadata": {
            "tags": []
          },
          "execution_count": 3
        }
      ]
    },
    {
      "metadata": {
        "id": "1CwzVntYeJxt",
        "colab_type": "text"
      },
      "cell_type": "markdown",
      "source": [
        "## Step 2: Pull data from Nexus\n",
        "\n",
        "Now we will start pulling data that has been ingested into your Nexus project previously. \n",
        "\n",
        "For building a classical recommendation system using matrix factorization, we will need a user-by-item matrix where nonzero elements of the matrix are ratings that a user has given an item. To do that, we will \n",
        "\n",
        "1.   Query all the rating data for building a U-I matrix\n",
        "2.   Query the movie id data for the recomendation\n",
        "\n",
        "SPARQL is an RDF query language which is able to retrieve and manipulate data stored in Resource Description Framework (RDF) format. Given that all the movielens data is put into the knowledge graph meaning they are inter-connected, it is straightforward to query the data using SPARQL."
      ]
    },
    {
      "metadata": {
        "id": "-FR4DODseJxu",
        "colab_type": "text"
      },
      "cell_type": "markdown",
      "source": [
        "### Setting up the environment for SPARQL\n",
        "We will first need to install a python wrapper around a SPARQL service. It helps in creating the query URI and, possibly, convert the result into a more manageable format. "
      ]
    },
    {
      "metadata": {
        "id": "XJ-uRsLSeJxu",
        "colab_type": "code",
        "colab": {
          "base_uri": "https://localhost:8080/",
          "height": 314
        },
        "outputId": "b19e8a2a-a59b-4141-dd06-ebf71f1eb143"
      },
      "cell_type": "code",
      "source": [
        "!pip install git+https://github.com/RDFLib/sparqlwrapper"
      ],
      "execution_count": 4,
      "outputs": [
        {
          "output_type": "stream",
          "text": [
            "Collecting git+https://github.com/RDFLib/sparqlwrapper\n",
            "  Cloning https://github.com/RDFLib/sparqlwrapper to /tmp/pip-req-build-rx7qrswx\n",
            "Collecting rdflib>=4.0 (from SPARQLWrapper==1.8.3.dev0)\n",
            "\u001b[?25l  Downloading https://files.pythonhosted.org/packages/3c/fe/630bacb652680f6d481b9febbb3e2c3869194a1a5fc3401a4a41195a2f8f/rdflib-4.2.2-py3-none-any.whl (344kB)\n",
            "\u001b[K    100% |████████████████████████████████| 348kB 25.9MB/s \n",
            "\u001b[?25hCollecting isodate (from rdflib>=4.0->SPARQLWrapper==1.8.3.dev0)\n",
            "\u001b[?25l  Downloading https://files.pythonhosted.org/packages/9b/9f/b36f7774ff5ea8e428fdcfc4bb332c39ee5b9362ddd3d40d9516a55221b2/isodate-0.6.0-py2.py3-none-any.whl (45kB)\n",
            "\u001b[K    100% |████████████████████████████████| 51kB 22.6MB/s \n",
            "\u001b[?25hRequirement already satisfied: pyparsing in /usr/local/lib/python3.6/dist-packages (from rdflib>=4.0->SPARQLWrapper==1.8.3.dev0) (2.3.1)\n",
            "Requirement already satisfied: six in /usr/local/lib/python3.6/dist-packages (from isodate->rdflib>=4.0->SPARQLWrapper==1.8.3.dev0) (1.11.0)\n",
            "Building wheels for collected packages: SPARQLWrapper\n",
            "  Running setup.py bdist_wheel for SPARQLWrapper ... \u001b[?25l-\b \b\\\b \b|\b \b/\b \bdone\n",
            "\u001b[?25h  Stored in directory: /tmp/pip-ephem-wheel-cache-zuppw2m6/wheels/94/87/ff/bd3f8bccb74168f42b5ba997f9105e18a9cc2699ad9a5525a6\n",
            "Successfully built SPARQLWrapper\n",
            "Installing collected packages: isodate, rdflib, SPARQLWrapper\n",
            "Successfully installed SPARQLWrapper-1.8.3.dev0 isodate-0.6.0 rdflib-4.2.2\n"
          ],
          "name": "stdout"
        }
      ]
    },
    {
      "metadata": {
        "id": "uyw7HQZZeJxx",
        "colab_type": "code",
        "colab": {}
      },
      "cell_type": "code",
      "source": [
        "import pandas as pd\n",
        "from itertools import repeat\n",
        "import concurrent.futures\n",
        "import json\n",
        "import csv\n",
        "import math\n",
        "import requests\n",
        "import time\n",
        "import numpy as np\n",
        "import os\n",
        "from sklearn.metrics import mean_squared_error\n",
        "from numpy.linalg import solve\n",
        "\n",
        "np.random.seed(0)\n",
        "\n",
        "from urllib.parse import urlencode, quote_plus\n",
        "from collections import OrderedDict\n",
        "from io import StringIO\n",
        "from functools import reduce\n",
        "from SPARQLWrapper import SPARQLWrapper, XML, N3, TURTLE, JSON, POST, POSTDIRECTLY, CSV"
      ],
      "execution_count": 0,
      "outputs": []
    },
    {
      "metadata": {
        "id": "IjHgISwdeJxz",
        "colab_type": "text"
      },
      "cell_type": "markdown",
      "source": [
        "We will now set up the SPARQL client based on the Nexus setting."
      ]
    },
    {
      "metadata": {
        "id": "ZDQijhdSeJx0",
        "colab_type": "code",
        "colab": {}
      },
      "cell_type": "code",
      "source": [
        "endpoint = os.path.join(deployment, \"views/amld/recommender/graph/sparql/\")\n",
        "headers = {}\n",
        "headers[\"Authorization\"] =\"Bearer {}\".format(token)\n",
        "headers[\"Content-Type\"] =\"application/sparql-query\"\n",
        "\n",
        "sparql_client = SPARQLWrapper(endpoint)\n",
        "sparql_client.addCustomHttpHeader(\"Content-Type\", \"application/sparql-query\")\n",
        "sparql_client.addCustomHttpHeader(\"Authorization\",\"Bearer {}\".format(token))\n",
        "sparql_client.setMethod(POST)\n",
        "sparql_client.setReturnFormat(JSON)\n",
        "sparql_client.setRequestMethod(POSTDIRECTLY)"
      ],
      "execution_count": 0,
      "outputs": []
    },
    {
      "metadata": {
        "id": "ABWgJF3LeJx2",
        "colab_type": "text"
      },
      "cell_type": "markdown",
      "source": [
        "We now define some helper function that can convert the JSON payload from the SPARQL client to DataFrame, which can be later used to build the U-I matrix."
      ]
    },
    {
      "metadata": {
        "id": "aUlXnDbfeJx4",
        "colab_type": "code",
        "colab": {}
      },
      "cell_type": "code",
      "source": [
        "# Convert SPARQL results into a Pandas data frame\n",
        "def sparql2dataframe(json_sparql_results, df):\n",
        "    cols = json_sparql_results['head']['vars']\n",
        "    out = []\n",
        "    for row in json_sparql_results['results']['bindings']:\n",
        "        item = []\n",
        "        for c in cols:\n",
        "            item.append(row.get(c, {}).get('value'))\n",
        "        out.append(item)\n",
        "    df_temp = pd.DataFrame(out, columns=cols)\n",
        "    return pd.concat([df, df_temp])\n",
        "\n",
        "#Use a client and send a query\n",
        "def query(query, sparql_client):\n",
        "    sparql_client.setQuery(query)\n",
        "    result_object = sparql_client.query()\n",
        "    return result_object._convertJSON()\n",
        "   \n"
      ],
      "execution_count": 0,
      "outputs": []
    },
    {
      "metadata": {
        "id": "IuIlsgQFeJx6",
        "colab_type": "text"
      },
      "cell_type": "markdown",
      "source": [
        "### Query the rating data from Nexus\n",
        "\n",
        "Here we define a function that will first perform a query to the ElasticSearch view in Nexus to fetch the number of the total rating data, which is about 100k in the case of a small Movielens data. Then, we create a SPARQL query that will fill in a dataframe with the fields of ['userId', 'movieId', 'rating']. We perform this query with a limit of 5000 entries per batch and loop over through the 100k data. This is to avoid overloading a large HTTP response. "
      ]
    },
    {
      "metadata": {
        "id": "a7LZ_5NNeJx7",
        "colab_type": "code",
        "colab": {}
      },
      "cell_type": "code",
      "source": [
        "# Configure and run query\n",
        "def load_rating_from_nexus(batch_size=5000):\n",
        "    \n",
        "    es_query = {\n",
        "        \"query\": {\n",
        "        \"terms\" : {\"@type\":[\"https://nexus-sandbox.io/v1/vocabs/amld/recommender/Rating\"]}\n",
        "        }\n",
        "    }\n",
        "    \n",
        "    es_payload = nexus.views.query_es(org_label=\"amld\", project_label=\"recommender\", \\\n",
        "                                      view_id='documents', query=es_query)\n",
        "    total_items = es_payload['hits']['total']\n",
        "        \n",
        "    batches = math.ceil(float(total_items)/batch_size)\n",
        "    \n",
        "    df = pd.DataFrame(columns=['userId', 'movieId', 'rating'])\n",
        "    \n",
        "    for i in range(batches): \n",
        "        start_idx = i * batch_size\n",
        "        if i == batches - 1:\n",
        "            size = total_items % batch_size\n",
        "        else:\n",
        "            size = batch_size\n",
        "            \n",
        "        sparql_query = \"\"\"\n",
        "        PREFIX vocab: <https://nexus-sandbox.io/v1/vocabs/amld/recommender/>\n",
        "\n",
        "        Select ?userId ?movieId ?rating \n",
        "         WHERE  {\n",
        "            ?ratingNode a vocab:Rating.\n",
        "            ?ratingNode vocab:movieId ?movieId.\n",
        "            ?ratingNode vocab:rating ?rating.\n",
        "            ?ratingNode vocab:userId ?userId.\n",
        "        }\n",
        "        ORDER BY ASC(?userId) ASC (?movieId)\n",
        "        OFFSET %start_idx%\n",
        "        LIMIT %batch_size%\"\"\".replace('%start_idx%', str(start_idx)).replace('%batch_size%', str(size))\n",
        "                \n",
        "        results = query(sparql_query, sparql_client)\n",
        "        df = sparql2dataframe(results, df)\n",
        "            \n",
        "    return df"
      ],
      "execution_count": 0,
      "outputs": []
    },
    {
      "metadata": {
        "id": "SI1iAbBJeJx-",
        "colab_type": "text"
      },
      "cell_type": "markdown",
      "source": [
        "We now will start loading the data. Depending on the infrastructure of the Nexus deployment, this might take up to a few minutes. After that, we will verify the shape of the data is correct."
      ]
    },
    {
      "metadata": {
        "id": "2Vf8vc3feJx-",
        "colab_type": "code",
        "colab": {
          "base_uri": "https://localhost:8080/",
          "height": 35
        },
        "outputId": "a3115a5c-80ed-4437-cbd7-d2d96b0e8daa"
      },
      "cell_type": "code",
      "source": [
        "df_rating = load_rating_from_nexus()\n",
        "df_rating.shape"
      ],
      "execution_count": 9,
      "outputs": [
        {
          "output_type": "execute_result",
          "data": {
            "text/plain": [
              "(94383, 3)"
            ]
          },
          "metadata": {
            "tags": []
          },
          "execution_count": 9
        }
      ]
    },
    {
      "metadata": {
        "id": "XzUJ7yW2ezql",
        "colab_type": "code",
        "colab": {
          "base_uri": "https://localhost:8080/",
          "height": 348
        },
        "outputId": "c98f29a6-4336-4d03-d546-27bef6fe3abb"
      },
      "cell_type": "code",
      "source": [
        "df_rating.head(10)"
      ],
      "execution_count": 11,
      "outputs": [
        {
          "output_type": "execute_result",
          "data": {
            "text/html": [
              "<div>\n",
              "<style scoped>\n",
              "    .dataframe tbody tr th:only-of-type {\n",
              "        vertical-align: middle;\n",
              "    }\n",
              "\n",
              "    .dataframe tbody tr th {\n",
              "        vertical-align: top;\n",
              "    }\n",
              "\n",
              "    .dataframe thead th {\n",
              "        text-align: right;\n",
              "    }\n",
              "</style>\n",
              "<table border=\"1\" class=\"dataframe\">\n",
              "  <thead>\n",
              "    <tr style=\"text-align: right;\">\n",
              "      <th></th>\n",
              "      <th>userId</th>\n",
              "      <th>movieId</th>\n",
              "      <th>rating</th>\n",
              "    </tr>\n",
              "  </thead>\n",
              "  <tbody>\n",
              "    <tr>\n",
              "      <th>0</th>\n",
              "      <td>1.0</td>\n",
              "      <td>1.0</td>\n",
              "      <td>4.0</td>\n",
              "    </tr>\n",
              "    <tr>\n",
              "      <th>1</th>\n",
              "      <td>1.0</td>\n",
              "      <td>3.0</td>\n",
              "      <td>4.0</td>\n",
              "    </tr>\n",
              "    <tr>\n",
              "      <th>2</th>\n",
              "      <td>1.0</td>\n",
              "      <td>6.0</td>\n",
              "      <td>4.0</td>\n",
              "    </tr>\n",
              "    <tr>\n",
              "      <th>3</th>\n",
              "      <td>1.0</td>\n",
              "      <td>47.0</td>\n",
              "      <td>5.0</td>\n",
              "    </tr>\n",
              "    <tr>\n",
              "      <th>4</th>\n",
              "      <td>1.0</td>\n",
              "      <td>50.0</td>\n",
              "      <td>5.0</td>\n",
              "    </tr>\n",
              "    <tr>\n",
              "      <th>5</th>\n",
              "      <td>1.0</td>\n",
              "      <td>70.0</td>\n",
              "      <td>3.0</td>\n",
              "    </tr>\n",
              "    <tr>\n",
              "      <th>6</th>\n",
              "      <td>1.0</td>\n",
              "      <td>101.0</td>\n",
              "      <td>5.0</td>\n",
              "    </tr>\n",
              "    <tr>\n",
              "      <th>7</th>\n",
              "      <td>1.0</td>\n",
              "      <td>110.0</td>\n",
              "      <td>4.0</td>\n",
              "    </tr>\n",
              "    <tr>\n",
              "      <th>8</th>\n",
              "      <td>1.0</td>\n",
              "      <td>151.0</td>\n",
              "      <td>5.0</td>\n",
              "    </tr>\n",
              "    <tr>\n",
              "      <th>9</th>\n",
              "      <td>1.0</td>\n",
              "      <td>157.0</td>\n",
              "      <td>5.0</td>\n",
              "    </tr>\n",
              "  </tbody>\n",
              "</table>\n",
              "</div>"
            ],
            "text/plain": [
              "  userId movieId rating\n",
              "0    1.0     1.0    4.0\n",
              "1    1.0     3.0    4.0\n",
              "2    1.0     6.0    4.0\n",
              "3    1.0    47.0    5.0\n",
              "4    1.0    50.0    5.0\n",
              "5    1.0    70.0    3.0\n",
              "6    1.0   101.0    5.0\n",
              "7    1.0   110.0    4.0\n",
              "8    1.0   151.0    5.0\n",
              "9    1.0   157.0    5.0"
            ]
          },
          "metadata": {
            "tags": []
          },
          "execution_count": 11
        }
      ]
    },
    {
      "metadata": {
        "id": "c-5TK6KueJyB",
        "colab_type": "text"
      },
      "cell_type": "markdown",
      "source": [
        "Now we will retrieve the movie id information using the same way. The retrieved data will be store in a dataframe with fields ['movieId', 'title']."
      ]
    },
    {
      "metadata": {
        "id": "BBIObLIreJyC",
        "colab_type": "code",
        "colab": {}
      },
      "cell_type": "code",
      "source": [
        "# Configure and run query\n",
        "def load_movie_from_nexus(batch_size=5000):\n",
        "    \n",
        "    es_query = {\n",
        "        \"query\": {\n",
        "        \"terms\" : {\"@type\":[\"https://nexus-sandbox.io/v1/vocabs/amld/recommender/Movie\"]}\n",
        "        }\n",
        "    }\n",
        "    \n",
        "    es_payload = nexus.views.query_es(org_label=\"amld\", project_label=\"recommender\", \\\n",
        "                                      view_id='documents', query=es_query)\n",
        "    total_items = es_payload['hits']['total']\n",
        "        \n",
        "    batches = math.ceil(float(total_items)/batch_size)\n",
        "    \n",
        "    df = pd.DataFrame(columns=['movieId', 'title'])\n",
        "    \n",
        "    for i in range(batches): \n",
        "        start_idx = i * batch_size\n",
        "        if i == batches - 1:\n",
        "            size = total_items % batch_size\n",
        "        else:\n",
        "            size = batch_size\n",
        "            \n",
        "        sparql_query = \"\"\"\n",
        "        PREFIX vocab: <https://nexus-sandbox.io/v1/vocabs/amld/recommender/>\n",
        "\n",
        "        Select ?movieId  ?title\n",
        "         WHERE  {\n",
        "            ?movieNode a vocab:Movie.\n",
        "            ?movieNode vocab:movieId ?movieId.\n",
        "            ?movieNode vocab:title ?title.\n",
        "\n",
        "        }\n",
        "        ORDER BY ASC(?movieId) ASC (?title)\n",
        "        OFFSET %start_idx%\n",
        "        LIMIT %batch_size%\"\"\".replace('%start_idx%', str(start_idx)).replace('%batch_size%', str(size))\n",
        "        \n",
        "        results = query(sparql_query, sparql_client)\n",
        "        df = sparql2dataframe(results, df)\n",
        "            \n",
        "    return df"
      ],
      "execution_count": 0,
      "outputs": []
    },
    {
      "metadata": {
        "id": "mha1euaaeJyE",
        "colab_type": "code",
        "colab": {
          "base_uri": "https://localhost:8080/",
          "height": 35
        },
        "outputId": "5dee1bfe-fd64-4476-e55d-329e443ff243"
      },
      "cell_type": "code",
      "source": [
        "df_movie = load_movie_from_nexus()\n",
        "df_movie.shape"
      ],
      "execution_count": 13,
      "outputs": [
        {
          "output_type": "execute_result",
          "data": {
            "text/plain": [
              "(8633, 2)"
            ]
          },
          "metadata": {
            "tags": []
          },
          "execution_count": 13
        }
      ]
    },
    {
      "metadata": {
        "id": "Kl_gCkNCfAgE",
        "colab_type": "code",
        "colab": {
          "base_uri": "https://localhost:8080/",
          "height": 348
        },
        "outputId": "5f6118b9-fbc4-49c9-9901-b9dc5f62ad05"
      },
      "cell_type": "code",
      "source": [
        "df_movie.head(10)"
      ],
      "execution_count": 14,
      "outputs": [
        {
          "output_type": "execute_result",
          "data": {
            "text/html": [
              "<div>\n",
              "<style scoped>\n",
              "    .dataframe tbody tr th:only-of-type {\n",
              "        vertical-align: middle;\n",
              "    }\n",
              "\n",
              "    .dataframe tbody tr th {\n",
              "        vertical-align: top;\n",
              "    }\n",
              "\n",
              "    .dataframe thead th {\n",
              "        text-align: right;\n",
              "    }\n",
              "</style>\n",
              "<table border=\"1\" class=\"dataframe\">\n",
              "  <thead>\n",
              "    <tr style=\"text-align: right;\">\n",
              "      <th></th>\n",
              "      <th>movieId</th>\n",
              "      <th>title</th>\n",
              "    </tr>\n",
              "  </thead>\n",
              "  <tbody>\n",
              "    <tr>\n",
              "      <th>0</th>\n",
              "      <td>1</td>\n",
              "      <td>Toy Story (1995)</td>\n",
              "    </tr>\n",
              "    <tr>\n",
              "      <th>1</th>\n",
              "      <td>2</td>\n",
              "      <td>Jumanji (1995)</td>\n",
              "    </tr>\n",
              "    <tr>\n",
              "      <th>2</th>\n",
              "      <td>4</td>\n",
              "      <td>Waiting to Exhale (1995)</td>\n",
              "    </tr>\n",
              "    <tr>\n",
              "      <th>3</th>\n",
              "      <td>5</td>\n",
              "      <td>Father of the Bride Part II (1995)</td>\n",
              "    </tr>\n",
              "    <tr>\n",
              "      <th>4</th>\n",
              "      <td>6</td>\n",
              "      <td>Heat (1995)</td>\n",
              "    </tr>\n",
              "    <tr>\n",
              "      <th>5</th>\n",
              "      <td>7</td>\n",
              "      <td>Sabrina (1995)</td>\n",
              "    </tr>\n",
              "    <tr>\n",
              "      <th>6</th>\n",
              "      <td>8</td>\n",
              "      <td>Tom and Huck (1995)</td>\n",
              "    </tr>\n",
              "    <tr>\n",
              "      <th>7</th>\n",
              "      <td>9</td>\n",
              "      <td>Sudden Death (1995)</td>\n",
              "    </tr>\n",
              "    <tr>\n",
              "      <th>8</th>\n",
              "      <td>10</td>\n",
              "      <td>GoldenEye (1995)</td>\n",
              "    </tr>\n",
              "    <tr>\n",
              "      <th>9</th>\n",
              "      <td>11</td>\n",
              "      <td>American President, The (1995)</td>\n",
              "    </tr>\n",
              "  </tbody>\n",
              "</table>\n",
              "</div>"
            ],
            "text/plain": [
              "  movieId                               title\n",
              "0       1                    Toy Story (1995)\n",
              "1       2                      Jumanji (1995)\n",
              "2       4            Waiting to Exhale (1995)\n",
              "3       5  Father of the Bride Part II (1995)\n",
              "4       6                         Heat (1995)\n",
              "5       7                      Sabrina (1995)\n",
              "6       8                 Tom and Huck (1995)\n",
              "7       9                 Sudden Death (1995)\n",
              "8      10                    GoldenEye (1995)\n",
              "9      11      American President, The (1995)"
            ]
          },
          "metadata": {
            "tags": []
          },
          "execution_count": 14
        }
      ]
    },
    {
      "metadata": {
        "id": "Et3yVsCgeJyG",
        "colab_type": "text"
      },
      "cell_type": "markdown",
      "source": [
        "## Step 3: Prepare the data\n",
        "\n",
        "To get the recommendation right, we must construct and transform the data correctly. This is usually a very important step so that you are sure your machine learning algorithm is consuming the correct data in a good way.\n",
        "\n",
        "In the case of collaborative filtering using matrix factorization, the preparation of the data contains the following steps:\n",
        "\n",
        "- As in the U-I matrix we will have the user id and the item id as incremental integers, we will assign a unique number between (0, #users) to each user and do the same for movies. The mapping between the id in the U-I matrix will be stored, which can be further used to query the recommendation. \n",
        "\n",
        "\n",
        "- Then, we will create the U-I matrix by assigning each user's rating to each movie on a zero matrix created using numpy.\n",
        "\n",
        "\n",
        "- Finally, we will split the data into training and testing. This is done by removing 10 ratings for each user and assign them to the test set. \n"
      ]
    },
    {
      "metadata": {
        "id": "u9CVessWeJyI",
        "colab_type": "code",
        "colab": {}
      },
      "cell_type": "code",
      "source": [
        "movie_mapping = dict( enumerate(df_rating.movieId.astype('category').cat.categories) )\n",
        "inv_movie_mapping = {v: k for k, v in movie_mapping.items()}\n",
        "\n",
        "df_rating.userId = df_rating.userId.astype('category').cat.codes.values\n",
        "df_rating.movieId = df_rating.movieId.astype('category').cat.codes.values"
      ],
      "execution_count": 0,
      "outputs": []
    },
    {
      "metadata": {
        "id": "41hl7h2XeJyL",
        "colab_type": "code",
        "colab": {}
      },
      "cell_type": "code",
      "source": [
        "n_users = df_rating.userId.unique().shape[0]\n",
        "n_items = df_rating.movieId.unique().shape[0]\n",
        "\n",
        "# Create r_{ui}, our ratings matrix\n",
        "ratings = np.zeros((n_users, n_items))\n",
        "for row in df_rating.itertuples():\n",
        "    ratings[row[1]-1, row[2]-1] = row[3]"
      ],
      "execution_count": 0,
      "outputs": []
    },
    {
      "metadata": {
        "id": "35Ngc29-eJyQ",
        "colab_type": "text"
      },
      "cell_type": "markdown",
      "source": [
        "We also need to provide a map from movie id to title for the recommendation system."
      ]
    },
    {
      "metadata": {
        "scrolled": false,
        "id": "gx-brIGueJyR",
        "colab_type": "code",
        "colab": {}
      },
      "cell_type": "code",
      "source": [
        "idx_to_movie = {}\n",
        "movie_list = df_movie.movieId.unique()\n",
        "for k, v in movie_mapping.items():\n",
        "    movie_v = str(int(float(v)))\n",
        "    if movie_v in movie_list:\n",
        "        idx_to_movie[k] = df_movie[df_movie.movieId==movie_v].title.values[0]"
      ],
      "execution_count": 0,
      "outputs": []
    },
    {
      "metadata": {
        "id": "vJ8yZ1bseJyU",
        "colab_type": "text"
      },
      "cell_type": "markdown",
      "source": [
        "## Step 4: Train a recommmender model on the ratings data\n",
        "\n",
        "Your data is now prepared as a U-I matrix and you will use it to build a collaborative filtering recommendation model.\n",
        "\n",
        "Collaborative filtering is a recommendation approach that is effectively based on the \"wisdom of the crowd\". It makes the assumption that, if two people share similar preferences, then the things that one of them prefers could be good recommendations to make to the other. In other words, if user A tends to like certain movies, and user B shares some of these preferences with user A, then the movies that user A likes, that user B has not yet seen, may well be movies that user B will also like.\n",
        "\n",
        "In a similar manner, we can think about items as being similar if they tend to be rated highly by the same people, on average.\n",
        "\n",
        "Hence these models are based on the combined, collaborative preferences and behavior of all users in aggregate. They tend to be very effective in practice (provided you have enough preference data to train the model). The ratings data you have is a form of explicit preference data, perfect for training collaborative filtering models. \n",
        "\n",
        "Matrix factorization (MF) is a classical method to perform collaborative filtering model. The core idea of MF is to represent the ratings as a user-item ratings matrix. In the diagram below you will see this matrix on the left (with users as rows and movies as columns). The entries in this matrix are the ratings given by users to movies. \n",
        "\n",
        "You may also notice that the matrix has missing entries because not all users have rated all movies. In this situation we refer to the data as sparse.\n",
        "\n",
        "![](https://github.com/BlueBrain/nexus/blob/master/src/main/paradox/docs/tutorial/notebooks/assets/collaborative_filtering.png?raw=1)\n",
        "\n",
        "MF methods aim to find two much smaller matrices (one representing the users and the other the items) that, when multiplied together, re-construct the original ratings matrix as closely as possible. This is know as factorizing the original matrix, hence the name of the technique.\n",
        "\n",
        "The two smaller matrices are called factor matrices (or latent features). The user and movie factor matrices are illustrated on the right in the diagram above. The idea is that each user factor vector is a compressed representation of the user's preferences and behavior. Likewise, each item factor vector is a compressed representation of the item. Once the model is trained, the factor vectors can be used to make recommendations, which is what you will do in the following sections.\n",
        "\n",
        "The optimization of the MF can be done using different methods. In this example, we will use 2 popular methods:\n",
        "\n",
        "- Alternating Least Squares (ALS)\n",
        "\n",
        "- Stochastic Gradient Descent (SGD)\n",
        "\n",
        "\n",
        "Further reading:\n",
        "\n",
        "[Explicit Matrix Factorization: ALS, SGD, and All That Jazz](https://www.ethanrosenthal.com/2016/01/09/explicit-matrix-factorization-sgd-als/)\n",
        "\n",
        "[ALS Implicit Collaborative Filtering\n",
        "](https://medium.com/radon-dev/als-implicit-collaborative-filtering-5ed653ba39fe)\n"
      ]
    },
    {
      "metadata": {
        "id": "EaPvAEipeJyV",
        "colab_type": "text"
      },
      "cell_type": "markdown",
      "source": [
        "Below we have provided an explicit MF class adapted from the example of an amazing [tutorial](https://www.ethanrosenthal.com/2016/01/09/explicit-matrix-factorization-sgd-als/) by Ethan Rosenthal, which can perform MF with both ALS and SGD optimizations."
      ]
    },
    {
      "metadata": {
        "id": "6ACefg9DeJyV",
        "colab_type": "code",
        "colab": {}
      },
      "cell_type": "code",
      "source": [
        "from sklearn.metrics import mean_squared_error\n",
        "\n",
        "def get_mse(pred, actual):\n",
        "    # Ignore nonzero terms.\n",
        "    pred = pred[actual.nonzero()].flatten()\n",
        "    actual = actual[actual.nonzero()].flatten()\n",
        "    return mean_squared_error(pred, actual)"
      ],
      "execution_count": 0,
      "outputs": []
    },
    {
      "metadata": {
        "id": "egLK5j0seJyX",
        "colab_type": "code",
        "colab": {}
      },
      "cell_type": "code",
      "source": [
        "class ExplicitMF():\n",
        "    def __init__(self, \n",
        "                 ratings,\n",
        "                 n_factors=40,\n",
        "                 learning='sgd',\n",
        "                 item_fact_reg=0.0, \n",
        "                 user_fact_reg=0.0,\n",
        "                 item_bias_reg=0.0,\n",
        "                 user_bias_reg=0.0,\n",
        "                 verbose=False):\n",
        "        \"\"\"\n",
        "        Train a matrix factorization model to predict empty \n",
        "        entries in a matrix. The terminology assumes a \n",
        "        ratings matrix which is ~ user x item\n",
        "        \n",
        "        Params\n",
        "        ======\n",
        "        ratings : (ndarray)\n",
        "            User x Item matrix with corresponding ratings\n",
        "        \n",
        "        n_factors : (int)\n",
        "            Number of latent factors to use in matrix \n",
        "            factorization model\n",
        "        learning : (str)\n",
        "            Method of optimization. Options include \n",
        "            'sgd' or 'als'.\n",
        "        \n",
        "        item_fact_reg : (float)\n",
        "            Regularization term for item latent factors\n",
        "        \n",
        "        user_fact_reg : (float)\n",
        "            Regularization term for user latent factors\n",
        "            \n",
        "        item_bias_reg : (float)\n",
        "            Regularization term for item biases\n",
        "        \n",
        "        user_bias_reg : (float)\n",
        "            Regularization term for user biases\n",
        "        \n",
        "        verbose : (bool)\n",
        "            Whether or not to printout training progress\n",
        "        \"\"\"\n",
        "        \n",
        "        self.ratings = ratings\n",
        "        self.n_users, self.n_items = ratings.shape\n",
        "        self.n_factors = n_factors\n",
        "        self.item_fact_reg = item_fact_reg\n",
        "        self.user_fact_reg = user_fact_reg\n",
        "        self.item_bias_reg = item_bias_reg\n",
        "        self.user_bias_reg = user_bias_reg\n",
        "        self.learning = learning\n",
        "        if self.learning == 'sgd':\n",
        "            self.sample_row, self.sample_col = self.ratings.nonzero()\n",
        "            self.n_samples = len(self.sample_row)\n",
        "        self._v = verbose\n",
        "\n",
        "    def als_step(self,\n",
        "                 latent_vectors,\n",
        "                 fixed_vecs,\n",
        "                 ratings,\n",
        "                 _lambda,\n",
        "                 type='user'):\n",
        "        \"\"\"\n",
        "        One of the two ALS steps. Solve for the latent vectors\n",
        "        specified by type.\n",
        "        \"\"\"\n",
        "        if type == 'user':\n",
        "            # Precompute\n",
        "            YTY = fixed_vecs.T.dot(fixed_vecs)\n",
        "            lambdaI = np.eye(YTY.shape[0]) * _lambda\n",
        "\n",
        "            for u in range(latent_vectors.shape[0]):\n",
        "                latent_vectors[u, :] = solve((YTY + lambdaI), \n",
        "                                             ratings[u, :].dot(fixed_vecs))\n",
        "        elif type == 'item':\n",
        "            # Precompute\n",
        "            XTX = fixed_vecs.T.dot(fixed_vecs)\n",
        "            lambdaI = np.eye(XTX.shape[0]) * _lambda\n",
        "            \n",
        "            for i in range(latent_vectors.shape[0]):\n",
        "                latent_vectors[i, :] = solve((XTX + lambdaI), \n",
        "                                             ratings[:, i].T.dot(fixed_vecs))\n",
        "        return latent_vectors\n",
        "\n",
        "    def train(self, n_iter=10, learning_rate=0.1):\n",
        "        \"\"\" Train model for n_iter iterations from scratch.\"\"\"\n",
        "        # initialize latent vectors        \n",
        "        self.user_vecs = np.random.normal(scale=1./self.n_factors,\\\n",
        "                                          size=(self.n_users, self.n_factors))\n",
        "        self.item_vecs = np.random.normal(scale=1./self.n_factors,\n",
        "                                          size=(self.n_items, self.n_factors))\n",
        "        \n",
        "        if self.learning == 'als':\n",
        "            self.partial_train(n_iter)\n",
        "        elif self.learning == 'sgd':\n",
        "            self.learning_rate = learning_rate\n",
        "            self.user_bias = np.zeros(self.n_users)\n",
        "            self.item_bias = np.zeros(self.n_items)\n",
        "            self.global_bias = np.mean(self.ratings[np.where(self.ratings != 0)])\n",
        "            self.partial_train(n_iter)\n",
        "    \n",
        "    \n",
        "    def partial_train(self, n_iter):\n",
        "        \"\"\" \n",
        "        Train model for n_iter iterations. Can be \n",
        "        called multiple times for further training.\n",
        "        \"\"\"\n",
        "        ctr = 1\n",
        "        while ctr <= n_iter:\n",
        "            if ctr % 10 == 0 and self._v:\n",
        "                print ('\\tcurrent iteration: {}'.format(ctr))\n",
        "            if self.learning == 'als':\n",
        "                self.user_vecs = self.als_step(self.user_vecs, \n",
        "                                               self.item_vecs, \n",
        "                                               self.ratings, \n",
        "                                               self.user_fact_reg, \n",
        "                                               type='user')\n",
        "                self.item_vecs = self.als_step(self.item_vecs, \n",
        "                                               self.user_vecs, \n",
        "                                               self.ratings, \n",
        "                                               self.item_fact_reg, \n",
        "                                               type='item')\n",
        "            elif self.learning == 'sgd':\n",
        "                self.training_indices = np.arange(self.n_samples)\n",
        "                np.random.shuffle(self.training_indices)\n",
        "                self.sgd()\n",
        "            ctr += 1\n",
        "\n",
        "    def sgd(self):\n",
        "        for idx in self.training_indices:\n",
        "            u = self.sample_row[idx]\n",
        "            i = self.sample_col[idx]\n",
        "            prediction = self.predict(u, i)\n",
        "            e = (self.ratings[u,i] - prediction) # error\n",
        "            \n",
        "            # Update biases\n",
        "            self.user_bias[u] += self.learning_rate * \\\n",
        "                                (e - self.user_bias_reg * self.user_bias[u])\n",
        "            self.item_bias[i] += self.learning_rate * \\\n",
        "                                (e - self.item_bias_reg * self.item_bias[i])\n",
        "            \n",
        "            #Update latent factors\n",
        "            self.user_vecs[u, :] += self.learning_rate * \\\n",
        "                                    (e * self.item_vecs[i, :] - \\\n",
        "                                     self.user_fact_reg * self.user_vecs[u,:])\n",
        "            self.item_vecs[i, :] += self.learning_rate * \\\n",
        "                                    (e * self.user_vecs[u, :] - \\\n",
        "                                     self.item_fact_reg * self.item_vecs[i,:])\n",
        "    def predict(self, u, i):\n",
        "        \"\"\" Single user and item prediction.\"\"\"\n",
        "        if self.learning == 'als':\n",
        "            return self.user_vecs[u, :].dot(self.item_vecs[i, :].T)\n",
        "        elif self.learning == 'sgd':\n",
        "            prediction = self.global_bias + self.user_bias[u] + self.item_bias[i]\n",
        "            prediction += self.user_vecs[u, :].dot(self.item_vecs[i, :].T)\n",
        "            return prediction\n",
        "    \n",
        "    def predict_all(self):\n",
        "        \"\"\" Predict ratings for every user and item.\"\"\"\n",
        "        predictions = np.zeros((self.user_vecs.shape[0], \n",
        "                                self.item_vecs.shape[0]))\n",
        "        for u in range(self.user_vecs.shape[0]):\n",
        "            for i in range(self.item_vecs.shape[0]):\n",
        "                predictions[u, i] = self.predict(u, i)\n",
        "                \n",
        "        return predictions\n",
        "    \n",
        "    def calculate_learning_curve(self, iter_array, test, learning_rate=0.1):\n",
        "        \"\"\"\n",
        "        Keep track of MSE as a function of training iterations.\n",
        "        \n",
        "        Params\n",
        "        ======\n",
        "        iter_array : (list)\n",
        "            List of numbers of iterations to train for each step of \n",
        "            the learning curve. e.g. [1, 5, 10, 20]\n",
        "        test : (2D ndarray)\n",
        "            Testing dataset (assumed to be user x item).\n",
        "        \n",
        "        The function creates two new class attributes:\n",
        "        \n",
        "        train_mse : (list)\n",
        "            Training data MSE values for each value of iter_array\n",
        "        test_mse : (list)\n",
        "            Test data MSE values for each value of iter_array\n",
        "        \"\"\"\n",
        "        iter_array.sort()\n",
        "        self.train_mse =[]\n",
        "        self.test_mse = []\n",
        "        iter_diff = 0\n",
        "        for (i, n_iter) in enumerate(iter_array):\n",
        "            if self._v:\n",
        "                print ('Iteration: {}'.format(n_iter))\n",
        "            if i == 0:\n",
        "                self.train(n_iter - iter_diff, learning_rate)\n",
        "            else:\n",
        "                self.partial_train(n_iter - iter_diff)\n",
        "\n",
        "            predictions = self.predict_all()\n",
        "\n",
        "            self.train_mse += [get_mse(predictions, self.ratings)]\n",
        "            self.test_mse += [get_mse(predictions, test)]\n",
        "            if self._v:\n",
        "                print ('Train mse: ' + str(self.train_mse[-1]))\n",
        "                print ('Test mse: ' + str(self.test_mse[-1]))\n",
        "            iter_diff = n_iter"
      ],
      "execution_count": 0,
      "outputs": []
    },
    {
      "metadata": {
        "id": "G-ppwGOweJyZ",
        "colab_type": "text"
      },
      "cell_type": "markdown",
      "source": [
        "We will first train an ALS model. The idea of ALS is that, we first hold one set of latent vectors constant. We then take the derivative of the loss function with respect to the other set of vectors. We set the derivative equal to zero  and solve for the non-constant vectors. With these new, solved-for user vectors in hand, we hold them constant, instead, and take the derivative of the loss function with respect to the previously constant vectors (the item vectors). We alternate back and forth and carry out this two-step dance until convergence. "
      ]
    },
    {
      "metadata": {
        "id": "lPVzTrjTeJya",
        "colab_type": "code",
        "colab": {}
      },
      "cell_type": "code",
      "source": [
        "als_model = ExplicitMF(ratings, n_factors=20, learning='als', \\\n",
        "                            item_fact_reg=0.01, user_fact_reg=0.01)\n",
        "als_model.train(50)\n",
        "\n",
        "user_vec_als = als_model.user_vecs\n",
        "movie_vec_als = als_model.item_vecs"
      ],
      "execution_count": 0,
      "outputs": []
    },
    {
      "metadata": {
        "id": "OHxbIkW9eJyc",
        "colab_type": "text"
      },
      "cell_type": "markdown",
      "source": [
        "The second model is the SGD model. The idea is also to take derivatives of the loss function. But instead we take the derivative with respect to each variable in the model. The “stochastic” aspect of the algorithm involves taking the derivative and updating feature weights one individual sample at a time. "
      ]
    },
    {
      "metadata": {
        "id": "2umyu-OKeJyd",
        "colab_type": "code",
        "colab": {}
      },
      "cell_type": "code",
      "source": [
        "sgd_model = ExplicitMF(ratings, n_factors=40, learning='sgd', \\\n",
        "                            item_fact_reg=0.01, user_fact_reg=0.01, \\\n",
        "                            user_bias_reg=0.01, item_bias_reg=0.01)\n",
        "sgd_model.train(20, learning_rate=0.001)\n",
        "\n",
        "user_vec_sgd = sgd_model.user_vecs\n",
        "movie_vec_sgd = sgd_model.item_vecs"
      ],
      "execution_count": 0,
      "outputs": []
    },
    {
      "metadata": {
        "id": "hiCdBq75eJyf",
        "colab_type": "text"
      },
      "cell_type": "markdown",
      "source": [
        "We now save the embedding matrices into local files"
      ]
    },
    {
      "metadata": {
        "id": "vGsD_74veJyf",
        "colab_type": "code",
        "colab": {}
      },
      "cell_type": "code",
      "source": [
        "np.save('sgd_vec.npy', movie_vec_sgd.astype(np.float16))\n",
        "np.save('als_vec.npy', movie_vec_als.astype(np.float16))"
      ],
      "execution_count": 0,
      "outputs": []
    },
    {
      "metadata": {
        "id": "s-0kAESheJyh",
        "colab_type": "text"
      },
      "cell_type": "markdown",
      "source": [
        "## Step 5: Push the embedding matrix to Nexus\n",
        "\n",
        "Now that we have the models trained, we can now push the embedding matrices back to Nexus. \n",
        "\n",
        "First, we will create a file that stores the movie embedding matrix of the SGD model in Nexus by using the SDK. We then keep the @id of the created file."
      ]
    },
    {
      "metadata": {
        "id": "m5yL2vakeJyi",
        "colab_type": "code",
        "colab": {}
      },
      "cell_type": "code",
      "source": [
        "your_org = 'YOUR_ORG'\n",
        "your_proj = 'YOUR_PROJ'"
      ],
      "execution_count": 0,
      "outputs": []
    },
    {
      "metadata": {
        "id": "RgM6NSfNeJyl",
        "colab_type": "code",
        "colab": {
          "base_uri": "https://localhost:8080/",
          "height": 545
        },
        "outputId": "2c86432f-4305-4075-9699-ac14674cbec0"
      },
      "cell_type": "code",
      "source": [
        "r = nexus.files.create(org_label=your_org, project_label=your_proj, filepath='als_vec.npy')\n",
        "als_vec_file_id = r['@id']"
      ],
      "execution_count": 24,
      "outputs": [
        {
          "output_type": "error",
          "ename": "HTTPError",
          "evalue": "ignored",
          "traceback": [
            "\u001b[0;31m---------------------------------------------------------------------------\u001b[0m",
            "\u001b[0;31mHTTPError\u001b[0m                                 Traceback (most recent call last)",
            "\u001b[0;32m<ipython-input-24-4c9a44deb5e6>\u001b[0m in \u001b[0;36m<module>\u001b[0;34m()\u001b[0m\n\u001b[0;32m----> 1\u001b[0;31m \u001b[0mr\u001b[0m \u001b[0;34m=\u001b[0m \u001b[0mnexus\u001b[0m\u001b[0;34m.\u001b[0m\u001b[0mfiles\u001b[0m\u001b[0;34m.\u001b[0m\u001b[0mcreate\u001b[0m\u001b[0;34m(\u001b[0m\u001b[0morg_label\u001b[0m\u001b[0;34m=\u001b[0m\u001b[0myour_org\u001b[0m\u001b[0;34m,\u001b[0m \u001b[0mproject_label\u001b[0m\u001b[0;34m=\u001b[0m\u001b[0myour_proj\u001b[0m\u001b[0;34m,\u001b[0m \u001b[0mfilepath\u001b[0m\u001b[0;34m=\u001b[0m\u001b[0;34m'als_vec.npy'\u001b[0m\u001b[0;34m)\u001b[0m\u001b[0;34m\u001b[0m\u001b[0;34m\u001b[0m\u001b[0m\n\u001b[0m\u001b[1;32m      2\u001b[0m \u001b[0mals_vec_file_id\u001b[0m \u001b[0;34m=\u001b[0m \u001b[0mr\u001b[0m\u001b[0;34m[\u001b[0m\u001b[0;34m'@id'\u001b[0m\u001b[0;34m]\u001b[0m\u001b[0;34m\u001b[0m\u001b[0;34m\u001b[0m\u001b[0m\n",
            "\u001b[0;32m/usr/local/lib/python3.6/dist-packages/nexussdk/files.py\u001b[0m in \u001b[0;36mcreate\u001b[0;34m(org_label, project_label, filepath, file_id)\u001b[0m\n\u001b[1;32m    105\u001b[0m \u001b[0;34m\u001b[0m\u001b[0m\n\u001b[1;32m    106\u001b[0m     \u001b[0;32mif\u001b[0m \u001b[0mfile_id\u001b[0m \u001b[0;32mis\u001b[0m \u001b[0;32mNone\u001b[0m\u001b[0;34m:\u001b[0m\u001b[0;34m\u001b[0m\u001b[0;34m\u001b[0m\u001b[0m\n\u001b[0;32m--> 107\u001b[0;31m         \u001b[0;32mreturn\u001b[0m \u001b[0mhttp_post\u001b[0m\u001b[0;34m(\u001b[0m\u001b[0mpath\u001b[0m\u001b[0;34m,\u001b[0m \u001b[0mbody\u001b[0m\u001b[0;34m=\u001b[0m\u001b[0mfile_obj\u001b[0m\u001b[0;34m,\u001b[0m \u001b[0mdata_type\u001b[0m\u001b[0;34m=\u001b[0m\u001b[0;34m\"file\"\u001b[0m\u001b[0;34m,\u001b[0m \u001b[0muse_base\u001b[0m\u001b[0;34m=\u001b[0m\u001b[0;32mTrue\u001b[0m\u001b[0;34m)\u001b[0m\u001b[0;34m\u001b[0m\u001b[0;34m\u001b[0m\u001b[0m\n\u001b[0m\u001b[1;32m    108\u001b[0m     \u001b[0;32melse\u001b[0m\u001b[0;34m:\u001b[0m\u001b[0;34m\u001b[0m\u001b[0;34m\u001b[0m\u001b[0m\n\u001b[1;32m    109\u001b[0m         \u001b[0mfile_id\u001b[0m \u001b[0;34m=\u001b[0m \u001b[0murl_encode\u001b[0m\u001b[0;34m(\u001b[0m\u001b[0mfile_id\u001b[0m\u001b[0;34m)\u001b[0m\u001b[0;34m\u001b[0m\u001b[0;34m\u001b[0m\u001b[0m\n",
            "\u001b[0;32m/usr/local/lib/python3.6/dist-packages/nexussdk/utils/http.py\u001b[0m in \u001b[0;36mhttp_post\u001b[0;34m(path, body, data_type, use_base, **kwargs)\u001b[0m\n\u001b[1;32m    142\u001b[0m         \u001b[0mresponse\u001b[0m \u001b[0;34m=\u001b[0m \u001b[0mrequests\u001b[0m\u001b[0;34m.\u001b[0m\u001b[0mpost\u001b[0m\u001b[0;34m(\u001b[0m\u001b[0mfull_url\u001b[0m\u001b[0;34m,\u001b[0m \u001b[0mheaders\u001b[0m\u001b[0;34m=\u001b[0m\u001b[0mheader\u001b[0m\u001b[0;34m,\u001b[0m \u001b[0mfiles\u001b[0m\u001b[0;34m=\u001b[0m\u001b[0mbody\u001b[0m\u001b[0;34m,\u001b[0m \u001b[0mparams\u001b[0m\u001b[0;34m=\u001b[0m\u001b[0mkwargs\u001b[0m\u001b[0;34m)\u001b[0m\u001b[0;34m\u001b[0m\u001b[0;34m\u001b[0m\u001b[0m\n\u001b[1;32m    143\u001b[0m \u001b[0;34m\u001b[0m\u001b[0m\n\u001b[0;32m--> 144\u001b[0;31m     \u001b[0mresponse\u001b[0m\u001b[0;34m.\u001b[0m\u001b[0mraise_for_status\u001b[0m\u001b[0;34m(\u001b[0m\u001b[0;34m)\u001b[0m\u001b[0;34m\u001b[0m\u001b[0;34m\u001b[0m\u001b[0m\n\u001b[0m\u001b[1;32m    145\u001b[0m     \u001b[0;32mreturn\u001b[0m \u001b[0mdecode_json_ordered\u001b[0m\u001b[0;34m(\u001b[0m\u001b[0mresponse\u001b[0m\u001b[0;34m.\u001b[0m\u001b[0mtext\u001b[0m\u001b[0;34m)\u001b[0m\u001b[0;34m\u001b[0m\u001b[0;34m\u001b[0m\u001b[0m\n\u001b[1;32m    146\u001b[0m \u001b[0;34m\u001b[0m\u001b[0m\n",
            "\u001b[0;32m/usr/local/lib/python3.6/dist-packages/requests/models.py\u001b[0m in \u001b[0;36mraise_for_status\u001b[0;34m(self)\u001b[0m\n\u001b[1;32m    933\u001b[0m \u001b[0;34m\u001b[0m\u001b[0m\n\u001b[1;32m    934\u001b[0m         \u001b[0;32mif\u001b[0m \u001b[0mhttp_error_msg\u001b[0m\u001b[0;34m:\u001b[0m\u001b[0;34m\u001b[0m\u001b[0;34m\u001b[0m\u001b[0m\n\u001b[0;32m--> 935\u001b[0;31m             \u001b[0;32mraise\u001b[0m \u001b[0mHTTPError\u001b[0m\u001b[0;34m(\u001b[0m\u001b[0mhttp_error_msg\u001b[0m\u001b[0;34m,\u001b[0m \u001b[0mresponse\u001b[0m\u001b[0;34m=\u001b[0m\u001b[0mself\u001b[0m\u001b[0;34m)\u001b[0m\u001b[0;34m\u001b[0m\u001b[0;34m\u001b[0m\u001b[0m\n\u001b[0m\u001b[1;32m    936\u001b[0m \u001b[0;34m\u001b[0m\u001b[0m\n\u001b[1;32m    937\u001b[0m     \u001b[0;32mdef\u001b[0m \u001b[0mclose\u001b[0m\u001b[0;34m(\u001b[0m\u001b[0mself\u001b[0m\u001b[0;34m)\u001b[0m\u001b[0;34m:\u001b[0m\u001b[0;34m\u001b[0m\u001b[0;34m\u001b[0m\u001b[0m\n",
            "\u001b[0;31mHTTPError\u001b[0m: 404 Client Error: Not Found for url: https://nexus-sandbox.io/v1/files/YOUR_ORG/YOUR_PROJ"
          ]
        }
      ]
    },
    {
      "metadata": {
        "id": "wg64lRJ0eJyo",
        "colab_type": "text"
      },
      "cell_type": "markdown",
      "source": [
        "We now create a resource of this data linking to the previously pushed file"
      ]
    },
    {
      "metadata": {
        "id": "6qvduvBfeJyr",
        "colab_type": "code",
        "colab": {}
      },
      "cell_type": "code",
      "source": [
        "als_embedding_payload = {\n",
        "    'modelName': 'ALS',\n",
        "    'fileId': als_vec_file_id\n",
        "}\n",
        "r = nexus.resources.create(org_label=your_org, project_label=your_proj, data=als_embedding_payload)\n",
        "als_vec_res_id = r['@id']"
      ],
      "execution_count": 0,
      "outputs": []
    },
    {
      "metadata": {
        "id": "WY6l2ezDeJyt",
        "colab_type": "text"
      },
      "cell_type": "markdown",
      "source": [
        "## Step 6: Show recommendation by querying Nexus\n",
        "\n",
        "Now that you have loaded your recommendation model into Nexus, we will perform some recommendation by querying the models stored in Nexus.\n",
        "\n",
        "* fetch the embedding matrix stored in Nexus\n",
        "* compute the similarity matrix of the movie\n",
        "* display top k similar movies"
      ]
    },
    {
      "metadata": {
        "id": "F7isEhvBeJyu",
        "colab_type": "text"
      },
      "cell_type": "markdown",
      "source": [
        "We first use the Nexus id of the embedding matrix to fetch the file"
      ]
    },
    {
      "metadata": {
        "id": "VJdyb-sLeJyv",
        "colab_type": "code",
        "colab": {}
      },
      "cell_type": "code",
      "source": [
        "r = nexus.files.fetch(org_label=your_org, project_label=your_proj, \\\n",
        "                      file_id = als_vec_file_id, out_filepath='./als_vec.npy')\n",
        "embedding_mat = np.load('./als_vec.npy')"
      ],
      "execution_count": 0,
      "outputs": []
    },
    {
      "metadata": {
        "id": "oyv_TbDeeJyx",
        "colab_type": "text"
      },
      "cell_type": "markdown",
      "source": [
        "We can now compute the similarity matrix of the movies for both two outcomes."
      ]
    },
    {
      "metadata": {
        "id": "zCq8ZtyaeJyy",
        "colab_type": "code",
        "colab": {}
      },
      "cell_type": "code",
      "source": [
        "def cosine_similarity(vecs):\n",
        "    sim = vecs.dot(vecs.T)\n",
        "    norms = np.array([np.sqrt(np.diagonal(sim))])\n",
        "    return sim / norms / norms.T"
      ],
      "execution_count": 0,
      "outputs": []
    },
    {
      "metadata": {
        "id": "EvvJ7NJPeJyz",
        "colab_type": "code",
        "colab": {}
      },
      "cell_type": "code",
      "source": [
        "sim = cosine_similarity(embedding_mat)"
      ],
      "execution_count": 0,
      "outputs": []
    },
    {
      "metadata": {
        "id": "JxxBypR6eJy1",
        "colab_type": "text"
      },
      "cell_type": "markdown",
      "source": [
        "We define a function to retrieve top k movies which are similar to a given movie Id"
      ]
    },
    {
      "metadata": {
        "id": "_bvtyJZLeJy2",
        "colab_type": "code",
        "colab": {}
      },
      "cell_type": "code",
      "source": [
        "def display_top_k_movies_name(similarity, mapper, movie_idx, k=5):\n",
        "    print('The recommended films for user who likes \"%s\"' % (mapper[movie_idx]))\n",
        "    \n",
        "    movie_indices = np.argsort(similarity[movie_idx,:])[::-1]\n",
        "    images = ''\n",
        "    k_ctr = 0\n",
        "    # Start i at 1 to not grab the input movie\n",
        "    i = 1\n",
        "    while k_ctr < 5:\n",
        "        if movie_indices[i] in mapper.keys():\n",
        "            movie = mapper[movie_indices[i]]\n",
        "            print(' - ' + movie)\n",
        "            k_ctr += 1\n",
        "            i += 1"
      ],
      "execution_count": 0,
      "outputs": []
    },
    {
      "metadata": {
        "id": "6b_tR5ZCeJy3",
        "colab_type": "code",
        "colab": {},
        "outputId": "e131cab0-c9b8-4d72-af8b-a53577406727"
      },
      "cell_type": "code",
      "source": [
        "movie_id = 5 # Heat\n",
        "display_top_k_movies_name(sim, idx_to_movie, movie_id)"
      ],
      "execution_count": 0,
      "outputs": [
        {
          "output_type": "stream",
          "text": [
            "The recommended films for user who likes \"Movie 43 (2013)\"\n",
            " - The Hungover Games (2014)\n",
            " - Charlie's Angels: Full Throttle (2003)\n",
            " - Behind the Candelabra (2013)\n",
            " - Best Defense (1984)\n",
            " - Crows Zero (Kurôzu zero) (2007)\n"
          ],
          "name": "stdout"
        }
      ]
    },
    {
      "metadata": {
        "id": "F2HdQlDFeJy6",
        "colab_type": "code",
        "colab": {}
      },
      "cell_type": "code",
      "source": [
        ""
      ],
      "execution_count": 0,
      "outputs": []
    }
  ]
}